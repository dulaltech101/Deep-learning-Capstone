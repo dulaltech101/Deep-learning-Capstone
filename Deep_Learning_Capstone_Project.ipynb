{
  "nbformat": 4,
  "nbformat_minor": 0,
  "metadata": {
    "accelerator": "GPU",
    "colab": {
      "name": "Deep Learning Capstone Project.ipynb",
      "provenance": [],
      "collapsed_sections": [],
      "machine_shape": "hm",
      "mount_file_id": "1k6T4b11wg_ZwfKLnbWNl4nMB-YH0PniI",
      "authorship_tag": "ABX9TyNFdfLwqewlvbQ02oFdKftS",
      "include_colab_link": true
    },
    "kernelspec": {
      "display_name": "Python 3",
      "name": "python3"
    },
    "language_info": {
      "name": "python"
    }
  },
  "cells": [
    {
      "cell_type": "markdown",
      "metadata": {
        "id": "view-in-github",
        "colab_type": "text"
      },
      "source": [
        "<a href=\"https://colab.research.google.com/github/dulaltech101/Deep-learning-Capstone/blob/main/Deep_Learning_Capstone_Project.ipynb\" target=\"_parent\"><img src=\"https://colab.research.google.com/assets/colab-badge.svg\" alt=\"Open In Colab\"/></a>"
      ]
    },
    {
      "cell_type": "markdown",
      "metadata": {
        "id": "hEo7oSeK_c_G"
      },
      "source": [
        "# **Capstone Project Malaria Detection**\n",
        "\n",
        "**By Durga P. Dulal**"
      ]
    },
    {
      "cell_type": "markdown",
      "metadata": {
        "id": "aYE0wqFlA4pp"
      },
      "source": [
        "### **Context**"
      ]
    },
    {
      "cell_type": "markdown",
      "metadata": {
        "id": "OZHicFTgBCk2"
      },
      "source": [
        "**Malaria - The Forgetton Epidemic and Deep Learning :**\n",
        "\n",
        "Do you know that Malaria is far deadlier in Africa than the coronavirus? Malaria is a parasitic disease that claims the lives of over 400,000 people each year, and the majority of the victims are children in Africa. Malaria is caused by Plasmodium parasites, which are spread to humans via the bites of infected female Anopheles mosquitos. According to UNICEF, in 2019, there were 229 million malaria cases worldwide, resulting in 409,000 deaths. Sixty-seven percent (274,000) of these deaths occurred in children under the age of five.\n",
        "\n",
        " “Lab technicians should process no more than 25 slides each day, but a lack of qualified workers lead some to process four times as many”, says Martha Nakaya - an experienced lab technologist of 11 years who works at Kiruddu General Hospital in Lake Victoria, Uganda\n",
        "\n",
        "But this is changing. Uganda’s first Artificial Intelligence (AI) lab, at Makerere University, has developed a way to diagnose blood samples using a cell phone. An automated system can help with the early and accurate detection of Malaria with higher accuracy than manual classification. It is also faster, cheaper, and saves hundreds of thousands of human lives.                 \n",
        "\n",
        "It would therefore be highly beneﬁcial to propose a method that performs malaria detection using Deep Learning Algorithms.\n",
        "\n",
        "\n"
      ]
    },
    {
      "cell_type": "markdown",
      "metadata": {
        "id": "AJif_gn-BWX6"
      },
      "source": [
        "### **Objective**"
      ]
    },
    {
      "cell_type": "markdown",
      "metadata": {
        "id": "ElKD--1NBlnB"
      },
      "source": [
        "Patients' health situations are classified by disease diagnosis, which aids in making proper treatment options. Microscopy and computer vision improvements have made it possible to diagnose diseases more quickly. Deep learning has dramatically changed the face of computer vision, beating humans in tasks such as object recognition. As we know, CNN is used for image recognition tasks because its architecture considers the spatial structure of the images. \n",
        "The objectives of the Capstone project are as follows: \n",
        "1.\tDesign an efficient computer vision model for automatic detection of malaria cells images. \n",
        "2.\tThe model should include identity where the image of a red blood cell is that one infected with Malaria or not, and classify the same as parasitized or uninfected, respectively. \n"
      ]
    },
    {
      "cell_type": "markdown",
      "metadata": {
        "id": "PdsR-MAvByjv"
      },
      "source": [
        "### **About the dataset**"
      ]
    },
    {
      "cell_type": "markdown",
      "metadata": {
        "id": "FSgni70vB5rd"
      },
      "source": [
        "There are a total of 24,958 train and 2,600 test images (colored) with an equal number of parasitized\n",
        "and uninfected instances, where:\n",
        "\n",
        "- The **parasitized** cells contain the Plasmodium parasite\n",
        "- The **uninfected** cells are free of the Plasmodium parasites but could contain other impurities"
      ]
    },
    {
      "cell_type": "markdown",
      "metadata": {
        "id": "P3M44i0NkhXc"
      },
      "source": [
        "### **Loading the libraries**"
      ]
    },
    {
      "cell_type": "code",
      "metadata": {
        "colab": {
          "base_uri": "https://localhost:8080/"
        },
        "id": "ErxC5T9iruOa",
        "outputId": "ca7f0ea6-f99e-4bc1-e314-76f024da4fe0"
      },
      "source": [
        "#Mounting the drive\n",
        "from google.colab import drive\n",
        "drive.mount('/content/drive')"
      ],
      "execution_count": null,
      "outputs": [
        {
          "output_type": "stream",
          "name": "stdout",
          "text": [
            "Drive already mounted at /content/drive; to attempt to forcibly remount, call drive.mount(\"/content/drive\", force_remount=True).\n"
          ]
        }
      ]
    },
    {
      "cell_type": "code",
      "metadata": {
        "id": "tsp_1mOLsDMV"
      },
      "source": [
        "\n",
        "# For working with images\n",
        "import zipfile\n",
        "import os\n",
        "from PIL import Image\n",
        "import numpy as np\n",
        "\n",
        "import cv2\n",
        "import glob\n",
        "from __future__ import absolute_import, division, print_function\n",
        "\n",
        "# For data manipulation and visualization\n",
        "import pandas as pd\n",
        "import matplotlib.pyplot as plt\n",
        "%matplotlib inline\n",
        "import seaborn as sns\n",
        "from sklearn.model_selection import train_test_split\n",
        "from sklearn.preprocessing import MinMaxScaler\n",
        "\n",
        "# For CNN model creation\n",
        "import tensorflow as tf\n",
        "from tensorflow.keras.models import Sequential\n",
        "from tensorflow.keras.layers import Dense, Conv2D, MaxPool2D, BatchNormalization, Dropout, Flatten, LeakyReLU\n",
        "from tensorflow.keras.utils import to_categorical\n",
        "\n",
        "import warnings\n",
        "warnings.filterwarnings(\"ignore\")\n"
      ],
      "execution_count": null,
      "outputs": []
    },
    {
      "cell_type": "markdown",
      "metadata": {
        "id": "mI30iuBSkl5A"
      },
      "source": [
        "Let's check the version of the Tensor flow"
      ]
    },
    {
      "cell_type": "code",
      "metadata": {
        "colab": {
          "base_uri": "https://localhost:8080/"
        },
        "id": "RloO_zWckis_",
        "outputId": "cc6ecc83-2274-4d9a-f534-76c6d8c82f49"
      },
      "source": [
        "print(tf.__version__)"
      ],
      "execution_count": null,
      "outputs": [
        {
          "output_type": "stream",
          "text": [
            "2.6.0\n"
          ],
          "name": "stdout"
        }
      ]
    },
    {
      "cell_type": "markdown",
      "metadata": {
        "id": "ReRjBBB5Qstw"
      },
      "source": [
        "### **Load the dataset:**"
      ]
    },
    {
      "cell_type": "code",
      "metadata": {
        "id": "_rm46LGAsP32"
      },
      "source": [
        "#Storing the path of the data file from the Google drive\n",
        "path = '/content/drive/MyDrive/cell_images.zip' \n",
        "\n",
        "#The data is provided as a zip file so we need to extract the files from the zip file\n",
        "with zipfile.ZipFile(path, 'r') as zip_ref:\n",
        "    zip_ref.extractall()"
      ],
      "execution_count": null,
      "outputs": []
    },
    {
      "cell_type": "markdown",
      "metadata": {
        "id": "CI2K_fucI3iN"
      },
      "source": [
        "The size of all images must be the same and should be converted to 4D arrays so that they can be used as an input for the convolutional neural network. Also, we need to create the labels for both types of images to be able to train and test the model.\n",
        "\n",
        "Let's do the same for the training data first and then we will use the same code for the test data as well."
      ]
    },
    {
      "cell_type": "code",
      "metadata": {
        "id": "Rm6_ikkWsYHc"
      },
      "source": [
        "#Storing the path of the extracted \"train\" folder \n",
        "train_dir = '/content/cell_images/train'\n",
        "\n",
        "#Size of image so that each image has the same size\n",
        "SIZE = 64\n",
        "\n",
        "#Empty list to store the training images after they are converted to NumPy arrays\n",
        "train_images = []\n",
        "\n",
        "#Empty list to store the training labels (0 - uninfected, 1 - parasitized)\n",
        "train_labels = []"
      ],
      "execution_count": null,
      "outputs": []
    },
    {
      "cell_type": "code",
      "metadata": {
        "id": "uu-HilDVtD2y"
      },
      "source": [
        "#We will run the same code for \"parasitized\" as well as \"uninfected\" folders within the \"train\" folder\n",
        "for folder_name in ['/parasitized/', '/uninfected/']:\n",
        "    \n",
        "    #Path of the folder\n",
        "    images_path = os.listdir(train_dir + folder_name)\n",
        "\n",
        "    for i, image_name in enumerate(images_path):\n",
        "        try:\n",
        "            #Opening each image using the path of that image\n",
        "            image = Image.open(train_dir + folder_name + image_name)\n",
        "\n",
        "            #Resizing each image to (64, 64)\n",
        "            image = image.resize((SIZE, SIZE))\n",
        "\n",
        "            #Converting images to arrays and appending that array to the empty list defined above\n",
        "            train_images.append(np.array(image))\n",
        "\n",
        "            #Creating labels for parasitized and uninfected images\n",
        "            if folder_name=='/parasitized/':\n",
        "                train_labels.append(1)\n",
        "            else:\n",
        "                train_labels.append(0)\n",
        "        except Exception:\n",
        "            pass       \n",
        "\n",
        "#Converting lists to arrays\n",
        "train_images = np.array(train_images)\n",
        "train_labels = np.array(train_labels)"
      ],
      "execution_count": null,
      "outputs": []
    },
    {
      "cell_type": "code",
      "metadata": {
        "id": "lhYlEKvotR3S"
      },
      "source": [
        "#Storing the path of the extracted \"test\" folder \n",
        "test_dir = '/content/cell_images/test'\n",
        "\n",
        "#Size of image so that each image has the same size (it must be same as the train image size)\n",
        "SIZE = 64\n",
        "\n",
        "#Empty list to store the testing images after they are converted to NumPy arrays\n",
        "test_images = []\n",
        "\n",
        "#Empty list to store the testing labels (0 - uninfected, 1 - parasitized)\n",
        "test_labels = []"
      ],
      "execution_count": null,
      "outputs": []
    },
    {
      "cell_type": "code",
      "metadata": {
        "id": "ce033bKCtVit"
      },
      "source": [
        "#We will run the same code for \"parasitized\" as well as \"uninfected\" folders within the \"test\" folder\n",
        "for folder_name in ['/parasitized/', '/uninfected/']:\n",
        "    \n",
        "    #Path of the folder\n",
        "    images_path = os.listdir(test_dir + folder_name)\n",
        "\n",
        "    for i, image_name in enumerate(images_path):\n",
        "        try:\n",
        "            #Opening each image using the path of that image\n",
        "            image = Image.open(test_dir + folder_name + image_name)\n",
        "            \n",
        "            #Resizing each image to (64,64)\n",
        "            image = image.resize((SIZE, SIZE))\n",
        "            \n",
        "            #Converting images to arrays and appending that array to the empty list defined above\n",
        "            test_images.append(np.array(image))\n",
        "            \n",
        "            #Creating labels for parasitized and uninfected images\n",
        "            if folder_name=='/parasitized/':\n",
        "                test_labels.append(1)\n",
        "            else:\n",
        "                test_labels.append(0)\n",
        "        except Exception:\n",
        "            pass       \n",
        "\n",
        "#Converting lists to arrays\n",
        "test_images = np.array(test_images)\n",
        "test_labels = np.array(test_labels)"
      ],
      "execution_count": null,
      "outputs": []
    },
    {
      "cell_type": "markdown",
      "metadata": {
        "id": "N54uY4uDssrf"
      },
      "source": [
        "Let's check the number of images in the training and testing data."
      ]
    },
    {
      "cell_type": "markdown",
      "metadata": {
        "id": "KG5lprC1pV0X"
      },
      "source": [
        "- As know that the Python interpreter has several built-in functions and types that are always available. And len() is a built-in function in python. You can use the len() to get the length of the given string, array, list, tuple, dictionary, etc. Let's use len() to the number of images in the training and testing data."
      ]
    },
    {
      "cell_type": "code",
      "metadata": {
        "colab": {
          "base_uri": "https://localhost:8080/"
        },
        "id": "iLrUVVrZsxD0",
        "outputId": "b66d6467-1196-4f8f-fb24-d9daf9b22dbc"
      },
      "source": [
        "#printing the numbers of the images in the training and testing dataset\n",
        "\n",
        "len(train_images), len(test_labels)"
      ],
      "execution_count": null,
      "outputs": [
        {
          "output_type": "execute_result",
          "data": {
            "text/plain": [
              "(24958, 2600)"
            ]
          },
          "metadata": {
            "tags": []
          },
          "execution_count": 161
        }
      ]
    },
    {
      "cell_type": "markdown",
      "metadata": {
        "id": "eXAIQrAJxyOm"
      },
      "source": [
        "- There are 24958 images in the training data and 2600 images in the testing data."
      ]
    },
    {
      "cell_type": "markdown",
      "metadata": {
        "id": "7BK-ChjFx9_D"
      },
      "source": [
        "###**Visualizing the Parasitized and Uninfected cell - Malaria**"
      ]
    },
    {
      "cell_type": "markdown",
      "metadata": {
        "id": "I41OZ_4KyOkf"
      },
      "source": [
        "- Visualizing the random 16 malaria cell images from the train dataset, that include the infected (parasitized) & uninfected"
      ]
    },
    {
      "cell_type": "code",
      "metadata": {
        "colab": {
          "base_uri": "https://localhost:8080/",
          "height": 429
        },
        "id": "Z-JgeCxRieO4",
        "outputId": "9ed9a37c-8dd5-431c-ece8-7793e69778ad"
      },
      "source": [
        "#visualizing the random 16 malaria cell images, that include the infected (parasitized) & uninfected\n",
        " \n",
        "plt.figure(1 , figsize = (20 , 12))\n",
        "n = 0 \n",
        "for i in range(16):\n",
        "    n += 1 \n",
        "    r = np.random.randint(0 , train_images.shape[0] , 1)\n",
        "    plt.subplot(4 , 4 , n)\n",
        "    plt.subplots_adjust(hspace = 0.5 , wspace = 0.5)\n",
        "    plt.imshow(train_images[r[0]]/255.)\n",
        "    plt.title('{} : {}'.format('Parasitized' if train_labels[r[0]] == 1 else 'Uninfected' ,\n",
        "                               train_labels[r[0]]) )\n",
        "    plt.xticks([]) , plt.yticks([])   "
      ],
      "execution_count": null,
      "outputs": [
        {
          "output_type": "display_data",
          "data": {
            "image/png": "[encoded data removed]",
            "text/plain": [
              "<Figure size 1440x864 with 16 Axes>"
            ]
          },
          "metadata": {
            "tags": []
          }
        }
      ]
    },
    {
      "cell_type": "markdown",
      "metadata": {
        "id": "ev7T8gyHpu6L"
      },
      "source": [
        "**Observations:**\n",
        "- Class 0 represent uninfected healthy cell image, whereas class 1 represent infected malaria cell, i.e., parasite \n",
        "- We can notice from the above plot that most of the parasitized stand out compared to the uninfected cells. We can notice a dot mark on the parasitized (infected) malaria cell images. There are subtle differences between malaria (parasitized) and healthy cell images.\n"
      ]
    },
    {
      "cell_type": "markdown",
      "metadata": {
        "id": "xLJrr_i_RilF"
      },
      "source": [
        "### **Data Preparation :**"
      ]
    },
    {
      "cell_type": "markdown",
      "metadata": {
        "id": "J1IMf33xbAZO"
      },
      "source": [
        "Let's check the number of images in training labels (0 - uninfected, 1 - parasitized)"
      ]
    },
    {
      "cell_type": "code",
      "metadata": {
        "colab": {
          "base_uri": "https://localhost:8080/"
        },
        "id": "tFKaDgTXaJjO",
        "outputId": "b5c15862-b77b-4f11-9f90-0a8f403cb9fb"
      },
      "source": [
        "print('Parasitized image count in train data:', len(train_labels[train_labels == 1]))\n",
        "print('Uninfected image count in train data:', len(train_labels[train_labels == 0]))"
      ],
      "execution_count": null,
      "outputs": [
        {
          "output_type": "stream",
          "text": [
            "Parasitized image count in train data: 12479\n",
            "Uninfected image count in train data: 12479\n"
          ],
          "name": "stdout"
        }
      ]
    },
    {
      "cell_type": "markdown",
      "metadata": {
        "id": "MvxebewSTts4"
      },
      "source": [
        " Checking the number of axes of the tensor:\n",
        " - Vector has five entries and so is called a 5-dimensional vector. A 5D vector has only one axis and has five dimensions along its axis, whereas a 5D tensor has five axes (and may have any number of dimensions along each axis). We can display the number of axes of a Numpy tensor via the ndim attribute"
      ]
    },
    {
      "cell_type": "code",
      "metadata": {
        "colab": {
          "base_uri": "https://localhost:8080/"
        },
        "id": "8KKkfgHHT02l",
        "outputId": "db7756b5-bf5f-4fd9-9552-0ea79c5feacf"
      },
      "source": [
        "#checking the number of axes of the tensor\n",
        "\n",
        "print('Number of axes of tensor: Train image:', train_images.ndim)\n",
        "print('Number of axes of tensor: Test image:',test_images.ndim)"
      ],
      "execution_count": null,
      "outputs": [
        {
          "output_type": "stream",
          "text": [
            "Number of axes of tensor: Train image: 4\n",
            "Number of axes of tensor: Test image: 4\n"
          ],
          "name": "stdout"
        }
      ]
    },
    {
      "cell_type": "markdown",
      "metadata": {
        "id": "F14m3w7KRRXv"
      },
      "source": [
        "Let's display the fourth digit"
      ]
    },
    {
      "cell_type": "code",
      "metadata": {
        "colab": {
          "base_uri": "https://localhost:8080/",
          "height": 268
        },
        "id": "5NzNwafpRLdq",
        "outputId": "2d09223b-e1a2-4e5a-cead-f2932b293fdb"
      },
      "source": [
        "digit = train_images[4]\n",
        "\n",
        "import matplotlib.pyplot as plt\n",
        "plt.imshow(digit, cmap=plt.cm.binary)\n",
        "plt.show()"
      ],
      "execution_count": null,
      "outputs": [
        {
          "output_type": "display_data",
          "data": {
            "image/png": "[encoded data removed]",
            "text/plain": [
              "<Figure size 432x288 with 1 Axes>"
            ]
          },
          "metadata": {
            "tags": [],
            "needs_background": "light"
          }
        }
      ]
    },
    {
      "cell_type": "code",
      "metadata": {
        "id": "qk8xfDl21CUv",
        "colab": {
          "base_uri": "https://localhost:8080/",
          "height": 285
        },
        "outputId": "71beea65-1b81-4bbe-c383-f636b2fbc8d0"
      },
      "source": [
        "#visualise the centroid image (train dataset)\n",
        "\n",
        "mean_img = np.median(train_images, axis = 0)[0]\n",
        "plt.imshow(mean_img)"
      ],
      "execution_count": null,
      "outputs": [
        {
          "output_type": "execute_result",
          "data": {
            "text/plain": [
              "<matplotlib.image.AxesImage at 0x7f8b3f4f3dd0>"
            ]
          },
          "metadata": {
            "tags": []
          },
          "execution_count": 166
        },
        {
          "output_type": "display_data",
          "data": {
            "image/png": "[encoded data removed]",
            "text/plain": [
              "<Figure size 432x288 with 1 Axes>"
            ]
          },
          "metadata": {
            "tags": [],
            "needs_background": "light"
          }
        }
      ]
    },
    {
      "cell_type": "markdown",
      "metadata": {
        "id": "fgldAHS2Us6H"
      },
      "source": [
        "Let's check the datatype: "
      ]
    },
    {
      "cell_type": "code",
      "metadata": {
        "colab": {
          "base_uri": "https://localhost:8080/"
        },
        "id": "E_48zeTYU2FR",
        "outputId": "ce306bb2-5f0e-4a13-e6d8-63a5421fd0f5"
      },
      "source": [
        "#checking the dataype of the images\n",
        "\n",
        "print('Datatype:')\n",
        "print('Train:', train_images.dtype)\n",
        "print('Test: ', test_images.dtype)"
      ],
      "execution_count": null,
      "outputs": [
        {
          "output_type": "stream",
          "text": [
            "Datatype:\n",
            "Train: uint8\n",
            "Test:  uint8\n"
          ],
          "name": "stdout"
        }
      ]
    },
    {
      "cell_type": "code",
      "metadata": {
        "colab": {
          "base_uri": "https://localhost:8080/"
        },
        "id": "iW8FcsLxQOAk",
        "outputId": "826dc7f8-f839-42ce-e794-9f752f9018a3"
      },
      "source": [
        "# Shape of the images and the first image\n",
        "\n",
        "print(\"Shape:\", train_images[0].shape)\n",
        "print()\n",
        "print(\"First image:\\n\", train_images[0])"
      ],
      "execution_count": null,
      "outputs": [
        {
          "output_type": "stream",
          "text": [
            "Shape: (64, 64, 3)\n",
            "\n",
            "First image:\n",
            " [[[0 0 0]\n",
            "  [0 0 0]\n",
            "  [0 0 0]\n",
            "  ...\n",
            "  [0 0 0]\n",
            "  [0 0 0]\n",
            "  [0 0 0]]\n",
            "\n",
            " [[0 0 0]\n",
            "  [0 0 0]\n",
            "  [0 0 0]\n",
            "  ...\n",
            "  [0 0 0]\n",
            "  [0 0 0]\n",
            "  [0 0 0]]\n",
            "\n",
            " [[0 0 0]\n",
            "  [0 0 0]\n",
            "  [0 0 0]\n",
            "  ...\n",
            "  [0 0 0]\n",
            "  [0 0 0]\n",
            "  [0 0 0]]\n",
            "\n",
            " ...\n",
            "\n",
            " [[0 0 0]\n",
            "  [0 0 0]\n",
            "  [0 0 0]\n",
            "  ...\n",
            "  [0 0 0]\n",
            "  [0 0 0]\n",
            "  [0 0 0]]\n",
            "\n",
            " [[0 0 0]\n",
            "  [0 0 0]\n",
            "  [0 0 0]\n",
            "  ...\n",
            "  [0 0 0]\n",
            "  [0 0 0]\n",
            "  [0 0 0]]\n",
            "\n",
            " [[0 0 0]\n",
            "  [0 0 0]\n",
            "  [0 0 0]\n",
            "  ...\n",
            "  [0 0 0]\n",
            "  [0 0 0]\n",
            "  [0 0 0]]]\n"
          ],
          "name": "stdout"
        }
      ]
    },
    {
      "cell_type": "markdown",
      "metadata": {
        "id": "-Z2ZfpzrHo4C"
      },
      "source": [
        "Let's print the new shapes of the train and the test set"
      ]
    },
    {
      "cell_type": "code",
      "metadata": {
        "colab": {
          "base_uri": "https://localhost:8080/"
        },
        "id": "AO5dnor8Ejik",
        "outputId": "98c534dd-5cf2-4fb9-aab8-99f6b0c08e48"
      },
      "source": [
        "# New shape \n",
        "\n",
        "print('Training set:', train_images.shape, train_labels.shape)\n",
        "print('Testing set:', test_images.shape, test_labels.shape)"
      ],
      "execution_count": null,
      "outputs": [
        {
          "output_type": "stream",
          "text": [
            "Training set: (24958, 64, 64, 3) (24958,)\n",
            "Testing set: (2600, 64, 64, 3) (2600,)\n"
          ],
          "name": "stdout"
        }
      ]
    },
    {
      "cell_type": "markdown",
      "metadata": {
        "id": "rtwtGMh8si_w"
      },
      "source": [
        "As we know **image pixel values range from 0-255**, let's dividing all the pixel values by 255 to standardize all the images to have values between 0-1.\n",
        "\n"
      ]
    },
    {
      "cell_type": "code",
      "metadata": {
        "id": "VNRx2I8dDfMV"
      },
      "source": [
        "#Normalizing inputs from 0-255 to 0-1\n",
        "\n",
        "train_images = train_images / 255\n",
        "test_images = test_images/ 255"
      ],
      "execution_count": null,
      "outputs": []
    },
    {
      "cell_type": "code",
      "metadata": {
        "colab": {
          "base_uri": "https://localhost:8080/"
        },
        "id": "FXOheI-266Mm",
        "outputId": "b7824bfb-12fb-4fea-c0d9-abd203bdde2c"
      },
      "source": [
        "#Shape of the train images and the first image\n",
        "\n",
        "print('Image size:', train_images[0].shape)\n",
        "print('Maximum value of train image: ', np.max(train_images))"
      ],
      "execution_count": null,
      "outputs": [
        {
          "output_type": "stream",
          "text": [
            "Image size: (64, 64, 3)\n",
            "Maximum value of train image:  1.0\n"
          ],
          "name": "stdout"
        }
      ]
    },
    {
      "cell_type": "markdown",
      "metadata": {
        "id": "LUXKVCexHxqb"
      },
      "source": [
        "**One-hot encoded**\n",
        "- Malaria detection is a binary classification. The output layer should have two neurons that will provide us with the probabilities of the input image belonging to those two classes. Hence, let's **create a one-hot encoded representation** for the target classes."
      ]
    },
    {
      "cell_type": "code",
      "metadata": {
        "colab": {
          "base_uri": "https://localhost:8080/"
        },
        "id": "9mnmDI0gn8wO",
        "outputId": "32759e39-118a-4fb4-f4e7-217f5affcf1f"
      },
      "source": [
        "#Write the function and appropriate variable name to one-hot encode the output\n",
        "\n",
        "train_labels = to_categorical(train_labels)\n",
        "test_labels =  to_categorical(test_labels)\n",
        "\n",
        "#test labels\n",
        "test_labels\n"
      ],
      "execution_count": null,
      "outputs": [
        {
          "output_type": "execute_result",
          "data": {
            "text/plain": [
              "array([[0., 1.],\n",
              "       [0., 1.],\n",
              "       [0., 1.],\n",
              "       ...,\n",
              "       [1., 0.],\n",
              "       [1., 0.],\n",
              "       [1., 0.]], dtype=float32)"
            ]
          },
          "metadata": {
            "tags": []
          },
          "execution_count": 172
        }
      ]
    },
    {
      "cell_type": "markdown",
      "metadata": {
        "id": "vVwtfC6hqHtF"
      },
      "source": [
        "   Let's visualize the relationship between the network, layers, loss function, and optimizer.\n",
        "\n",
        "![03fig01 (1).jpg](data:image/jpeg;base64,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)\n",
        "\n",
        "A convolutional neural network (CNN) is a neural network that has one or more convolutional layers and are used mainly for image processing, classification, segmentation and also for other auto correlated data. Each convolutional layer contains a series of filters known as convolutional kernels. The filter is a matrix of integers that are used on a subset of the input pixel values, the same size as the kernel.\n",
        "\n",
        "CNN extracts the feature of the image and converts it into a lower dimension without losing its characteristics. And in CNNs, instead of having an input vector, the input tensor has new dimensions (height, width, channels). There are five different layers in CNN, which are as follows: \n",
        "\n",
        "- Input layer\n",
        "- Convo layer (Convo + ReLU)\n",
        "- Pooling layer\n",
        "- Fully connected(FC) layer\n",
        "- Softmax/logistic layer\n",
        "- Output layer\n"
      ]
    },
    {
      "cell_type": "markdown",
      "metadata": {
        "id": "vYSxo69CTsId"
      },
      "source": [
        "### **CNNs Model 1 :**"
      ]
    },
    {
      "cell_type": "markdown",
      "metadata": {
        "id": "JkqPRGcpCcso"
      },
      "source": [
        "As we want to reproduce the same results every time when we run the code. Let's set the **seed for random number generator**. "
      ]
    },
    {
      "cell_type": "code",
      "metadata": {
        "id": "JhnbSrTBxWY1"
      },
      "source": [
        "#Clearing backend\n",
        "from tensorflow.keras import backend\n",
        "backend.clear_session()"
      ],
      "execution_count": null,
      "outputs": []
    },
    {
      "cell_type": "code",
      "metadata": {
        "id": "-Lm5fGZUX-wp"
      },
      "source": [
        "#Fixing the seed for random number generators\n",
        "np.random.seed(42)\n",
        "import random\n",
        "random.seed(42)\n",
        "tf.random.set_seed(42)"
      ],
      "execution_count": null,
      "outputs": []
    },
    {
      "cell_type": "markdown",
      "metadata": {
        "id": "Y87C7jxWSbLE"
      },
      "source": [
        "**Building and training a CNN model :**"
      ]
    },
    {
      "cell_type": "code",
      "metadata": {
        "id": "x7rstZdHOqeK"
      },
      "source": [
        "#Importing losses and optimizers modules\n",
        "from tensorflow.keras import losses\n",
        "from tensorflow.keras import optimizers\n",
        "\n",
        "#Define the function\n",
        "def cnn_model_1():\n",
        "    model_1= Sequential()\n",
        "    \n",
        "    # first conv layer with 32 filters, kernel size 3x3, \n",
        "    #and 'relu' as activation function\n",
        "    model_1.add(Conv2D(filters=32, kernel_size=(3, 3), padding='same', \n",
        "                       input_shape=(SIZE, SIZE, 3),\n",
        "                       activation = 'relu'))\n",
        "\n",
        "    # max-pooling layer with a pool size of 2x2\n",
        "    model_1.add(MaxPool2D(pool_size=(2, 2), data_format=\"channels_last\"))\n",
        "\n",
        "    #adding batch normalization & dropout  \n",
        "    model_1.add(BatchNormalization(axis = -1))\n",
        "    model_1.add(Dropout(0.2))\n",
        "\n",
        "    # second conv layer with 32 filters, kernel size 3x3, \n",
        "    #and 'relu' as activation function\n",
        "    model_1.add(Conv2D(filters=32, kernel_size=(3, 3), padding='same',\n",
        "                       activation = 'relu' ))\n",
        "\n",
        "    # max-pooling layer with a pool size of 2x2\n",
        "    model_1.add(MaxPool2D(pool_size=(2, 2), data_format=\"channels_last\"))\n",
        "\n",
        "    #adding batch normalization & dropout  \n",
        "    model_1.add(BatchNormalization(axis = -1))\n",
        "    model_1.add(Dropout(0.2))\n",
        "\n",
        "    # flatting the output from the previous layer\n",
        "    model_1.add(Flatten())\n",
        "\n",
        "    #adding a dense layer, batch normalization & dropout  \n",
        "    model_1.add(Dense(activation = 'relu', units=512))\n",
        "    model_1.add(BatchNormalization())\n",
        "    model_1.add(Dropout(0.2))\n",
        "    \n",
        "    #adding a dense layer, batch normalization & dropout\n",
        "    model_1.add(Dense(activation = 'relu', units=256))\n",
        "    model_1.add(BatchNormalization(axis = -1))\n",
        "    model_1.add(Dropout(0.2))\n",
        "\n",
        "    #activation function for the final for last dense layer\n",
        "    model_1.add(Dense(activation = 'softmax', units=2))\n",
        "\n",
        "    #compile the model\n",
        "    model_1.compile(optimizer = 'adam',\n",
        "                 loss = 'categorical_crossentropy',\n",
        "                 metrics = ['accuracy'])\n",
        "    return model_1"
      ],
      "execution_count": null,
      "outputs": []
    },
    {
      "cell_type": "code",
      "metadata": {
        "id": "mIL7Kp4b0LDr"
      },
      "source": [
        "#Build the 1st CNN model\n",
        "model_1 = cnn_model_1()"
      ],
      "execution_count": null,
      "outputs": []
    },
    {
      "cell_type": "code",
      "metadata": {
        "colab": {
          "base_uri": "https://localhost:8080/"
        },
        "id": "0mVa0w9i0QZo",
        "outputId": "b8c1688d-57cc-4cb3-9cfb-61fe9cc3751c"
      },
      "source": [
        "#Print the summary of the 1st CNN's model. \n",
        "model_1.summary()"
      ],
      "execution_count": null,
      "outputs": [
        {
          "output_type": "stream",
          "text": [
            "Model: \"sequential\"\n",
            "_________________________________________________________________\n",
            "Layer (type)                 Output Shape              Param #   \n",
            "=================================================================\n",
            "conv2d (Conv2D)              (None, 64, 64, 32)        896       \n",
            "_________________________________________________________________\n",
            "max_pooling2d (MaxPooling2D) (None, 32, 32, 32)        0         \n",
            "_________________________________________________________________\n",
            "batch_normalization (BatchNo (None, 32, 32, 32)        128       \n",
            "_________________________________________________________________\n",
            "dropout (Dropout)            (None, 32, 32, 32)        0         \n",
            "_________________________________________________________________\n",
            "conv2d_1 (Conv2D)            (None, 32, 32, 32)        9248      \n",
            "_________________________________________________________________\n",
            "max_pooling2d_1 (MaxPooling2 (None, 16, 16, 32)        0         \n",
            "_________________________________________________________________\n",
            "batch_normalization_1 (Batch (None, 16, 16, 32)        128       \n",
            "_________________________________________________________________\n",
            "dropout_1 (Dropout)          (None, 16, 16, 32)        0         \n",
            "_________________________________________________________________\n",
            "flatten (Flatten)            (None, 8192)              0         \n",
            "_________________________________________________________________\n",
            "dense (Dense)                (None, 512)               4194816   \n",
            "_________________________________________________________________\n",
            "batch_normalization_2 (Batch (None, 512)               2048      \n",
            "_________________________________________________________________\n",
            "dropout_2 (Dropout)          (None, 512)               0         \n",
            "_________________________________________________________________\n",
            "dense_1 (Dense)              (None, 256)               131328    \n",
            "_________________________________________________________________\n",
            "batch_normalization_3 (Batch (None, 256)               1024      \n",
            "_________________________________________________________________\n",
            "dropout_3 (Dropout)          (None, 256)               0         \n",
            "_________________________________________________________________\n",
            "dense_2 (Dense)              (None, 2)                 514       \n",
            "=================================================================\n",
            "Total params: 4,340,130\n",
            "Trainable params: 4,338,466\n",
            "Non-trainable params: 1,664\n",
            "_________________________________________________________________\n"
          ],
          "name": "stdout"
        }
      ]
    },
    {
      "cell_type": "code",
      "metadata": {
        "colab": {
          "base_uri": "https://localhost:8080/"
        },
        "id": "hs-cZz9_8kF3",
        "outputId": "e780bd30-a2ee-46d6-9fe7-27bff5e4a191"
      },
      "source": [
        "#let's fit the 1st CNN model\n",
        "history_model_1 = model_1.fit(np.array(train_images), \n",
        "                         train_labels, \n",
        "                         batch_size = 32, \n",
        "                         verbose = 2, \n",
        "                         epochs = 50, \n",
        "                         validation_split = 0.1,\n",
        "                         shuffle = True)"
      ],
      "execution_count": null,
      "outputs": [
        {
          "output_type": "stream",
          "text": [
            "Epoch 1/50\n",
            "702/702 - 5s - loss: 0.4458 - accuracy: 0.8074 - val_loss: 0.0238 - val_accuracy: 0.9912\n",
            "Epoch 2/50\n",
            "702/702 - 4s - loss: 0.2233 - accuracy: 0.9212 - val_loss: 0.1879 - val_accuracy: 0.9471\n",
            "Epoch 3/50\n",
            "702/702 - 4s - loss: 0.1807 - accuracy: 0.9352 - val_loss: 0.0672 - val_accuracy: 0.9824\n",
            "Epoch 4/50\n",
            "702/702 - 4s - loss: 0.1575 - accuracy: 0.9464 - val_loss: 0.1398 - val_accuracy: 0.9724\n",
            "Epoch 5/50\n",
            "702/702 - 4s - loss: 0.1494 - accuracy: 0.9479 - val_loss: 0.2511 - val_accuracy: 0.9323\n",
            "Epoch 6/50\n",
            "702/702 - 4s - loss: 0.1429 - accuracy: 0.9503 - val_loss: 0.0711 - val_accuracy: 0.9848\n",
            "Epoch 7/50\n",
            "702/702 - 4s - loss: 0.1418 - accuracy: 0.9500 - val_loss: 0.3037 - val_accuracy: 0.8690\n",
            "Epoch 8/50\n",
            "702/702 - 4s - loss: 0.1298 - accuracy: 0.9540 - val_loss: 0.0924 - val_accuracy: 0.9748\n",
            "Epoch 9/50\n",
            "702/702 - 4s - loss: 0.1225 - accuracy: 0.9564 - val_loss: 0.0933 - val_accuracy: 0.9720\n",
            "Epoch 10/50\n",
            "702/702 - 4s - loss: 0.1128 - accuracy: 0.9585 - val_loss: 0.0824 - val_accuracy: 0.9796\n",
            "Epoch 11/50\n",
            "702/702 - 4s - loss: 0.1114 - accuracy: 0.9604 - val_loss: 0.1217 - val_accuracy: 0.9692\n",
            "Epoch 12/50\n",
            "702/702 - 4s - loss: 0.1055 - accuracy: 0.9623 - val_loss: 0.1277 - val_accuracy: 0.9696\n",
            "Epoch 13/50\n",
            "702/702 - 4s - loss: 0.0962 - accuracy: 0.9654 - val_loss: 0.1683 - val_accuracy: 0.9447\n",
            "Epoch 14/50\n",
            "702/702 - 4s - loss: 0.0866 - accuracy: 0.9676 - val_loss: 0.1006 - val_accuracy: 0.9667\n",
            "Epoch 15/50\n",
            "702/702 - 4s - loss: 0.0808 - accuracy: 0.9708 - val_loss: 0.1156 - val_accuracy: 0.9635\n",
            "Epoch 16/50\n",
            "702/702 - 4s - loss: 0.0801 - accuracy: 0.9719 - val_loss: 0.1239 - val_accuracy: 0.9571\n",
            "Epoch 17/50\n",
            "702/702 - 4s - loss: 0.0787 - accuracy: 0.9713 - val_loss: 0.1168 - val_accuracy: 0.9720\n",
            "Epoch 18/50\n",
            "702/702 - 4s - loss: 0.0731 - accuracy: 0.9733 - val_loss: 0.1549 - val_accuracy: 0.9495\n",
            "Epoch 19/50\n",
            "702/702 - 4s - loss: 0.0662 - accuracy: 0.9764 - val_loss: 0.0786 - val_accuracy: 0.9812\n",
            "Epoch 20/50\n",
            "702/702 - 4s - loss: 0.0658 - accuracy: 0.9773 - val_loss: 0.1184 - val_accuracy: 0.9655\n",
            "Epoch 21/50\n",
            "702/702 - 4s - loss: 0.0580 - accuracy: 0.9796 - val_loss: 0.2004 - val_accuracy: 0.9299\n",
            "Epoch 22/50\n",
            "702/702 - 4s - loss: 0.0577 - accuracy: 0.9792 - val_loss: 0.1372 - val_accuracy: 0.9607\n",
            "Epoch 23/50\n",
            "702/702 - 4s - loss: 0.0498 - accuracy: 0.9824 - val_loss: 0.1657 - val_accuracy: 0.9559\n",
            "Epoch 24/50\n",
            "702/702 - 4s - loss: 0.0533 - accuracy: 0.9815 - val_loss: 0.1034 - val_accuracy: 0.9740\n",
            "Epoch 25/50\n",
            "702/702 - 4s - loss: 0.0455 - accuracy: 0.9846 - val_loss: 0.1563 - val_accuracy: 0.9543\n",
            "Epoch 26/50\n",
            "702/702 - 4s - loss: 0.0431 - accuracy: 0.9854 - val_loss: 0.1601 - val_accuracy: 0.9619\n",
            "Epoch 27/50\n",
            "702/702 - 4s - loss: 0.0400 - accuracy: 0.9871 - val_loss: 0.1864 - val_accuracy: 0.9443\n",
            "Epoch 28/50\n",
            "702/702 - 4s - loss: 0.0364 - accuracy: 0.9879 - val_loss: 0.1413 - val_accuracy: 0.9639\n",
            "Epoch 29/50\n",
            "702/702 - 4s - loss: 0.0369 - accuracy: 0.9880 - val_loss: 0.1521 - val_accuracy: 0.9728\n",
            "Epoch 30/50\n",
            "702/702 - 4s - loss: 0.0346 - accuracy: 0.9879 - val_loss: 0.1884 - val_accuracy: 0.9523\n",
            "Epoch 31/50\n",
            "702/702 - 4s - loss: 0.0379 - accuracy: 0.9870 - val_loss: 0.2127 - val_accuracy: 0.9491\n",
            "Epoch 32/50\n",
            "702/702 - 4s - loss: 0.0323 - accuracy: 0.9883 - val_loss: 0.1527 - val_accuracy: 0.9579\n",
            "Epoch 33/50\n",
            "702/702 - 4s - loss: 0.0325 - accuracy: 0.9886 - val_loss: 0.2007 - val_accuracy: 0.9495\n",
            "Epoch 34/50\n",
            "702/702 - 4s - loss: 0.0434 - accuracy: 0.9840 - val_loss: 0.1315 - val_accuracy: 0.9647\n",
            "Epoch 35/50\n",
            "702/702 - 4s - loss: 0.0394 - accuracy: 0.9865 - val_loss: 0.1192 - val_accuracy: 0.9675\n",
            "Epoch 36/50\n",
            "702/702 - 4s - loss: 0.0305 - accuracy: 0.9897 - val_loss: 0.1499 - val_accuracy: 0.9627\n",
            "Epoch 37/50\n",
            "702/702 - 4s - loss: 0.0289 - accuracy: 0.9898 - val_loss: 0.1250 - val_accuracy: 0.9655\n",
            "Epoch 38/50\n",
            "702/702 - 4s - loss: 0.0270 - accuracy: 0.9908 - val_loss: 0.2356 - val_accuracy: 0.9403\n",
            "Epoch 39/50\n",
            "702/702 - 4s - loss: 0.0297 - accuracy: 0.9906 - val_loss: 0.1523 - val_accuracy: 0.9527\n",
            "Epoch 40/50\n",
            "702/702 - 4s - loss: 0.0288 - accuracy: 0.9894 - val_loss: 0.2077 - val_accuracy: 0.9443\n",
            "Epoch 41/50\n",
            "702/702 - 4s - loss: 0.0310 - accuracy: 0.9895 - val_loss: 0.1587 - val_accuracy: 0.9627\n",
            "Epoch 42/50\n",
            "702/702 - 4s - loss: 0.0274 - accuracy: 0.9906 - val_loss: 0.1634 - val_accuracy: 0.9659\n",
            "Epoch 43/50\n",
            "702/702 - 4s - loss: 0.0276 - accuracy: 0.9911 - val_loss: 0.1596 - val_accuracy: 0.9627\n",
            "Epoch 44/50\n",
            "702/702 - 4s - loss: 0.0199 - accuracy: 0.9926 - val_loss: 0.1711 - val_accuracy: 0.9603\n",
            "Epoch 45/50\n",
            "702/702 - 4s - loss: 0.0196 - accuracy: 0.9939 - val_loss: 0.1133 - val_accuracy: 0.9744\n",
            "Epoch 46/50\n",
            "702/702 - 4s - loss: 0.0230 - accuracy: 0.9928 - val_loss: 0.2162 - val_accuracy: 0.9712\n",
            "Epoch 47/50\n",
            "702/702 - 4s - loss: 0.0184 - accuracy: 0.9936 - val_loss: 0.1969 - val_accuracy: 0.9467\n",
            "Epoch 48/50\n",
            "702/702 - 4s - loss: 0.0252 - accuracy: 0.9923 - val_loss: 0.1457 - val_accuracy: 0.9675\n",
            "Epoch 49/50\n",
            "702/702 - 4s - loss: 0.0210 - accuracy: 0.9931 - val_loss: 0.1829 - val_accuracy: 0.9495\n",
            "Epoch 50/50\n",
            "702/702 - 4s - loss: 0.0228 - accuracy: 0.9927 - val_loss: 0.1530 - val_accuracy: 0.9655\n"
          ],
          "name": "stdout"
        }
      ]
    },
    {
      "cell_type": "code",
      "metadata": {
        "colab": {
          "base_uri": "https://localhost:8080/"
        },
        "id": "qVV27cPgo1Ud",
        "outputId": "17c3040d-4e74-4e86-ffdf-2a4bd7329c87"
      },
      "source": [
        "tf.keras.callbacks.ModelCheckpoint"
      ],
      "execution_count": null,
      "outputs": [
        {
          "output_type": "execute_result",
          "data": {
            "text/plain": [
              "tensorflow.python.keras.callbacks.ModelCheckpoint"
            ]
          },
          "metadata": {
            "tags": []
          },
          "execution_count": 178
        }
      ]
    },
    {
      "cell_type": "code",
      "metadata": {
        "colab": {
          "base_uri": "https://localhost:8080/",
          "height": 295
        },
        "id": "wYbs_294iF2l",
        "outputId": "e704ed3a-fef0-448f-e0c1-6e684d4737d3"
      },
      "source": [
        "# plotting the accuracies\n",
        "\n",
        "plt.plot(history_model_1.history['accuracy'])\n",
        "plt.plot(history_model_1.history['val_accuracy'])\n",
        "plt.title('Accuracy vs Epochs')\n",
        "plt.ylabel('Accuracy')\n",
        "plt.xlabel('Epoch')\n",
        "plt.legend(['Train', 'Validation'], loc='lower right')\n",
        "plt.show()"
      ],
      "execution_count": null,
      "outputs": [
        {
          "output_type": "display_data",
          "data": {
            "image/png": "[encoded data removed]",
            "text/plain": [
              "<Figure size 432x288 with 1 Axes>"
            ]
          },
          "metadata": {
            "tags": [],
            "needs_background": "light"
          }
        }
      ]
    },
    {
      "cell_type": "markdown",
      "metadata": {
        "id": "0UwwFYoioJnK"
      },
      "source": [
        "**Observations:**\n",
        "\n",
        "-  **Model accuracy is above 96% on both training and validation datasets**. **Validation accuracy fluctuates**, and it does not increase with the increase in epochs, and the generalizaiton gap is very small. \n",
        "- Validation accuracy curve is not stable.\n",
        "\n"
      ]
    },
    {
      "cell_type": "code",
      "metadata": {
        "id": "IMUomY8WE_JT"
      },
      "source": [
        "#saving model_1 as a h5 file\n",
        "from tensorflow.keras.models import load_model\n",
        "model_1.save('model_1.h5')"
      ],
      "execution_count": null,
      "outputs": []
    },
    {
      "cell_type": "code",
      "metadata": {
        "id": "1Xj2hs2DHg0H"
      },
      "source": [
        "#loading the save model\n",
        "from tensorflow.keras.models import load_model\n",
        "from tensorflow.keras.preprocessing import image\n",
        "model_1=load_model('model_1.h5')"
      ],
      "execution_count": null,
      "outputs": []
    },
    {
      "cell_type": "code",
      "metadata": {
        "id": "ghMj8FDm5jjR"
      },
      "source": [
        "#Make prediction on the test data using model_1\n",
        "test_pred = model_1.predict(test_images)\n",
        "test_pred = np.argmax(test_pred, axis=-1)"
      ],
      "execution_count": null,
      "outputs": []
    },
    {
      "cell_type": "code",
      "metadata": {
        "id": "i5eo8AQj5yaV"
      },
      "source": [
        "#Converting each entry to single label from one-hot encoded vector\n",
        "test_labels = np.argmax(test_labels, axis=-1)"
      ],
      "execution_count": null,
      "outputs": []
    },
    {
      "cell_type": "code",
      "metadata": {
        "colab": {
          "base_uri": "https://localhost:8080/",
          "height": 520
        },
        "id": "8hHn9UZLnmXZ",
        "outputId": "f76d174d-179b-4465-b1a6-20e0ad123b0e"
      },
      "source": [
        "print(classification_report(test_labels, test_pred))\n",
        "cm = confusion_matrix(test_labels, test_pred)\n",
        "\n",
        "plt.subplots(1, 2, figsize=(10,5))\n",
        "plt.subplot(1, 2, 1)\n",
        "sns.heatmap(cm, annot=True,  fmt='.0f', xticklabels=['parasitized', 'uninfected'], yticklabels=['parasitized', 'uninfected'])\n",
        "plt.ylabel('Actual')\n",
        "plt.xlabel('Predicted')\n",
        "\n",
        "cm = confusion_matrix(test_labels, test_pred)\n",
        "plt.subplot(1, 2, 2)\n",
        "\n",
        "sns.heatmap(cm/np.sum(cm, axis =1), annot=True,\n",
        "            fmt='.2%', xticklabels=['parasitized', 'uninfected'], \n",
        "            yticklabels=['parasitized', 'uninfected'])\n",
        "plt.ylabel('Actual')\n",
        "plt.xlabel('Predicted')\n",
        "\n",
        "plt.tight_layout();\n",
        "plt.show()                          "
      ],
      "execution_count": null,
      "outputs": [
        {
          "output_type": "stream",
          "text": [
            "              precision    recall  f1-score   support\n",
            "\n",
            "           0       0.95      0.96      0.95      1300\n",
            "           1       0.95      0.95      0.95      1300\n",
            "\n",
            "    accuracy                           0.95      2600\n",
            "   macro avg       0.95      0.95      0.95      2600\n",
            "weighted avg       0.95      0.95      0.95      2600\n",
            "\n"
          ],
          "name": "stdout"
        },
        {
          "output_type": "display_data",
          "data": {
            "image/png": "[encoded data removed]",
            "text/plain": [
              "<Figure size 720x360 with 4 Axes>"
            ]
          },
          "metadata": {
            "tags": [],
            "needs_background": "light"
          }
        }
      ]
    },
    {
      "cell_type": "markdown",
      "metadata": {
        "id": "uzKyhiZB0vCb"
      },
      "source": [
        "**Observation :** \n",
        "\n",
        "\n",
        "- The model is giving about 95% accuracy on the testing dataset which is comparable to the accuracy of the validation dataset. Hence, the model is giving a generalized performance\n",
        "\n",
        "- We can see from the above confusion report that both precision and the recall score is 95% (not bad)\n",
        "\n",
        "- The confusion matrix shows that the model can identify the majoritty of the time (95%) wheather a person is having malaria (parasited) or not having malaria (uninfected)\n"
      ]
    },
    {
      "cell_type": "markdown",
      "metadata": {
        "id": "6J2fOxdKdu9w"
      },
      "source": [
        "### **CNNs Model 2 :**"
      ]
    },
    {
      "cell_type": "markdown",
      "metadata": {
        "id": "VkXEXRVWe1PB"
      },
      "source": [
        "- Experiment by increasing the validation split to 20% (0.2), increasing the second convolutional layer with 64 filters, sigmoid as activation (last dense layer), adamax as an optimizer, and loss = binary_crossentropy to make the model generalize better."
      ]
    },
    {
      "cell_type": "markdown",
      "metadata": {
        "id": "XjN0PnX7WpyA"
      },
      "source": [
        ""
      ]
    },
    {
      "cell_type": "code",
      "metadata": {
        "id": "FNrtYbPT3Zp8"
      },
      "source": [
        "#Clearing backend\n",
        "from tensorflow.keras import backend\n",
        "backend.clear_session()"
      ],
      "execution_count": null,
      "outputs": []
    },
    {
      "cell_type": "code",
      "metadata": {
        "id": "3DWBuiKJ3h0O"
      },
      "source": [
        "#Fixing the seed for random number generators\n",
        "np.random.seed(42)\n",
        "import random\n",
        "random.seed(42)\n",
        "tf.random.set_seed(42)"
      ],
      "execution_count": null,
      "outputs": []
    },
    {
      "cell_type": "code",
      "metadata": {
        "id": "Kt0IWQ0Yfr6A"
      },
      "source": [
        "#Define the function\n",
        "def cnn_model_2():\n",
        "    model_2= Sequential()\n",
        "    \n",
        "    # first conv layer with 32 filters, kernel size 3x3, \n",
        "    #and 'relu' as activation function\n",
        "    model_2.add(Conv2D(filters=32, kernel_size=(3, 3), padding='same', \n",
        "                       input_shape=(SIZE, SIZE, 3),\n",
        "                       activation = 'relu'))\n",
        "\n",
        "    # max-pooling layer with a pool size of 2x2\n",
        "    model_2.add(MaxPool2D(pool_size=(2, 2), data_format=\"channels_last\"))\n",
        "\n",
        "    #adding batch normalization & dropout  \n",
        "    model_2.add(BatchNormalization(axis = -1))\n",
        "    model_2.add(Dropout(0.5))\n",
        "\n",
        "    # second conv layer with 64 filters, kernel size 3x3, \n",
        "    #and 'relu' as activation function\n",
        "    model_2.add(Conv2D(filters=64, kernel_size=(3, 3), padding='same',\n",
        "                       activation = 'relu' ))\n",
        "\n",
        "    # max-pooling layer with a pool size of 2x2\n",
        "    model_2.add(MaxPool2D(pool_size=(2, 2), data_format=\"channels_last\"))\n",
        "\n",
        "    #adding batch normalization & dropout  \n",
        "    model_2.add(BatchNormalization(axis = -1))\n",
        "    model_2.add(Dropout(0.5))\n",
        "\n",
        "    # flatting the output from the previous layer\n",
        "    model_2.add(Flatten())\n",
        "\n",
        "    #adding a dense layer, batch normalization & dropout  \n",
        "    model_2.add(Dense(activation = 'relu', units=512))\n",
        "    model_2.add(BatchNormalization())\n",
        "    model_2.add(Dropout(0.5))\n",
        "    \n",
        "    #adding a dense layer, batch normalization & dropout\n",
        "    model_2.add(Dense(activation = 'relu', units=256))\n",
        "    model_2.add(BatchNormalization(axis = -1))\n",
        "    model_2.add(Dropout(0.5))\n",
        "\n",
        "    #activation function for the final for last dense layer\n",
        "    model_2.add(Dense(activation = 'sigmoid', units=2))\n",
        "\n",
        "    #compile the model\n",
        "    model_2.compile(optimizer = 'adamax',\n",
        "                 loss = 'binary_crossentropy',\n",
        "                 metrics = ['accuracy'])\n",
        "    return model_2"
      ],
      "execution_count": null,
      "outputs": []
    },
    {
      "cell_type": "code",
      "metadata": {
        "id": "YUJFEpCzgEox"
      },
      "source": [
        "#Build the 2nd CNN model\n",
        "model_2 = cnn_model_2()"
      ],
      "execution_count": null,
      "outputs": []
    },
    {
      "cell_type": "code",
      "metadata": {
        "colab": {
          "base_uri": "https://localhost:8080/"
        },
        "id": "PvovtoSugU5d",
        "outputId": "5ddb6f78-dcc4-4cfa-d8db-eefe9b23494c"
      },
      "source": [
        "#Print the summary of the 1st CNN's model. \n",
        "model_2.summary()"
      ],
      "execution_count": null,
      "outputs": [
        {
          "output_type": "stream",
          "text": [
            "Model: \"sequential\"\n",
            "_________________________________________________________________\n",
            "Layer (type)                 Output Shape              Param #   \n",
            "=================================================================\n",
            "conv2d (Conv2D)              (None, 64, 64, 32)        896       \n",
            "_________________________________________________________________\n",
            "max_pooling2d (MaxPooling2D) (None, 32, 32, 32)        0         \n",
            "_________________________________________________________________\n",
            "batch_normalization (BatchNo (None, 32, 32, 32)        128       \n",
            "_________________________________________________________________\n",
            "dropout (Dropout)            (None, 32, 32, 32)        0         \n",
            "_________________________________________________________________\n",
            "conv2d_1 (Conv2D)            (None, 32, 32, 64)        18496     \n",
            "_________________________________________________________________\n",
            "max_pooling2d_1 (MaxPooling2 (None, 16, 16, 64)        0         \n",
            "_________________________________________________________________\n",
            "batch_normalization_1 (Batch (None, 16, 16, 64)        256       \n",
            "_________________________________________________________________\n",
            "dropout_1 (Dropout)          (None, 16, 16, 64)        0         \n",
            "_________________________________________________________________\n",
            "flatten (Flatten)            (None, 16384)             0         \n",
            "_________________________________________________________________\n",
            "dense (Dense)                (None, 512)               8389120   \n",
            "_________________________________________________________________\n",
            "batch_normalization_2 (Batch (None, 512)               2048      \n",
            "_________________________________________________________________\n",
            "dropout_2 (Dropout)          (None, 512)               0         \n",
            "_________________________________________________________________\n",
            "dense_1 (Dense)              (None, 256)               131328    \n",
            "_________________________________________________________________\n",
            "batch_normalization_3 (Batch (None, 256)               1024      \n",
            "_________________________________________________________________\n",
            "dropout_3 (Dropout)          (None, 256)               0         \n",
            "_________________________________________________________________\n",
            "dense_2 (Dense)              (None, 2)                 514       \n",
            "=================================================================\n",
            "Total params: 8,543,810\n",
            "Trainable params: 8,542,082\n",
            "Non-trainable params: 1,728\n",
            "_________________________________________________________________\n"
          ],
          "name": "stdout"
        }
      ]
    },
    {
      "cell_type": "code",
      "metadata": {
        "colab": {
          "base_uri": "https://localhost:8080/"
        },
        "id": "mxpJxacMhINU",
        "outputId": "14ad0adf-05db-4978-c33a-6f1324a5075c"
      },
      "source": [
        "history_model_2 = model_2.fit(np.array(train_images), \n",
        "                         train_labels, \n",
        "                         batch_size = 32, \n",
        "                         verbose = 2, \n",
        "                         epochs = 62, \n",
        "                         validation_split = 0.2,\n",
        "                         shuffle = True)"
      ],
      "execution_count": null,
      "outputs": [
        {
          "output_type": "stream",
          "text": [
            "Epoch 1/62\n",
            "624/624 - 5s - loss: 0.6944 - accuracy: 0.6848 - val_loss: 0.0818 - val_accuracy: 0.9728\n",
            "Epoch 2/62\n",
            "624/624 - 4s - loss: 0.4382 - accuracy: 0.8218 - val_loss: 0.0399 - val_accuracy: 0.9824\n",
            "Epoch 3/62\n",
            "624/624 - 4s - loss: 0.3159 - accuracy: 0.8777 - val_loss: 0.0484 - val_accuracy: 0.9796\n",
            "Epoch 4/62\n",
            "624/624 - 4s - loss: 0.2682 - accuracy: 0.8966 - val_loss: 0.0612 - val_accuracy: 0.9728\n",
            "Epoch 5/62\n",
            "624/624 - 4s - loss: 0.2404 - accuracy: 0.9107 - val_loss: 0.0929 - val_accuracy: 0.9736\n",
            "Epoch 6/62\n",
            "624/624 - 4s - loss: 0.2292 - accuracy: 0.9138 - val_loss: 0.0493 - val_accuracy: 0.9922\n",
            "Epoch 7/62\n",
            "624/624 - 4s - loss: 0.2110 - accuracy: 0.9219 - val_loss: 0.1005 - val_accuracy: 0.9770\n",
            "Epoch 8/62\n",
            "624/624 - 4s - loss: 0.2031 - accuracy: 0.9255 - val_loss: 0.0547 - val_accuracy: 0.9850\n",
            "Epoch 9/62\n",
            "624/624 - 4s - loss: 0.1925 - accuracy: 0.9275 - val_loss: 0.0540 - val_accuracy: 0.9832\n",
            "Epoch 10/62\n",
            "624/624 - 4s - loss: 0.1873 - accuracy: 0.9323 - val_loss: 0.0844 - val_accuracy: 0.9790\n",
            "Epoch 11/62\n",
            "624/624 - 4s - loss: 0.1784 - accuracy: 0.9339 - val_loss: 0.0319 - val_accuracy: 0.9910\n",
            "Epoch 12/62\n",
            "624/624 - 4s - loss: 0.1800 - accuracy: 0.9346 - val_loss: 0.0285 - val_accuracy: 0.9916\n",
            "Epoch 13/62\n",
            "624/624 - 4s - loss: 0.1649 - accuracy: 0.9393 - val_loss: 0.0713 - val_accuracy: 0.9874\n",
            "Epoch 14/62\n",
            "624/624 - 4s - loss: 0.1601 - accuracy: 0.9419 - val_loss: 0.0757 - val_accuracy: 0.9864\n",
            "Epoch 15/62\n",
            "624/624 - 4s - loss: 0.1542 - accuracy: 0.9455 - val_loss: 0.0614 - val_accuracy: 0.9872\n",
            "Epoch 16/62\n",
            "624/624 - 4s - loss: 0.1491 - accuracy: 0.9461 - val_loss: 0.0693 - val_accuracy: 0.9864\n",
            "Epoch 17/62\n",
            "624/624 - 4s - loss: 0.1426 - accuracy: 0.9473 - val_loss: 0.0832 - val_accuracy: 0.9856\n",
            "Epoch 18/62\n",
            "624/624 - 4s - loss: 0.1427 - accuracy: 0.9487 - val_loss: 0.0818 - val_accuracy: 0.9860\n",
            "Epoch 19/62\n",
            "624/624 - 4s - loss: 0.1361 - accuracy: 0.9507 - val_loss: 0.0979 - val_accuracy: 0.9878\n",
            "Epoch 20/62\n",
            "624/624 - 4s - loss: 0.1371 - accuracy: 0.9509 - val_loss: 0.1503 - val_accuracy: 0.9844\n",
            "Epoch 21/62\n",
            "624/624 - 4s - loss: 0.1325 - accuracy: 0.9528 - val_loss: 0.0905 - val_accuracy: 0.9852\n",
            "Epoch 22/62\n",
            "624/624 - 4s - loss: 0.1283 - accuracy: 0.9534 - val_loss: 0.1499 - val_accuracy: 0.9848\n",
            "Epoch 23/62\n",
            "624/624 - 4s - loss: 0.1240 - accuracy: 0.9551 - val_loss: 0.1237 - val_accuracy: 0.9810\n",
            "Epoch 24/62\n",
            "624/624 - 4s - loss: 0.1248 - accuracy: 0.9550 - val_loss: 0.2857 - val_accuracy: 0.9673\n",
            "Epoch 25/62\n",
            "624/624 - 4s - loss: 0.1216 - accuracy: 0.9560 - val_loss: 0.1066 - val_accuracy: 0.9816\n",
            "Epoch 26/62\n",
            "624/624 - 4s - loss: 0.1183 - accuracy: 0.9552 - val_loss: 0.1494 - val_accuracy: 0.9820\n",
            "Epoch 27/62\n",
            "624/624 - 4s - loss: 0.1183 - accuracy: 0.9570 - val_loss: 0.0692 - val_accuracy: 0.9872\n",
            "Epoch 28/62\n",
            "624/624 - 4s - loss: 0.1102 - accuracy: 0.9603 - val_loss: 0.1249 - val_accuracy: 0.9832\n",
            "Epoch 29/62\n",
            "624/624 - 4s - loss: 0.1133 - accuracy: 0.9582 - val_loss: 0.1108 - val_accuracy: 0.9782\n",
            "Epoch 30/62\n",
            "624/624 - 4s - loss: 0.1098 - accuracy: 0.9602 - val_loss: 0.1306 - val_accuracy: 0.9818\n",
            "Epoch 31/62\n",
            "624/624 - 4s - loss: 0.1087 - accuracy: 0.9608 - val_loss: 0.1256 - val_accuracy: 0.9818\n",
            "Epoch 32/62\n",
            "624/624 - 4s - loss: 0.1019 - accuracy: 0.9642 - val_loss: 0.1328 - val_accuracy: 0.9766\n",
            "Epoch 33/62\n",
            "624/624 - 4s - loss: 0.1091 - accuracy: 0.9615 - val_loss: 0.1214 - val_accuracy: 0.9812\n",
            "Epoch 34/62\n",
            "624/624 - 4s - loss: 0.1058 - accuracy: 0.9608 - val_loss: 0.1272 - val_accuracy: 0.9808\n",
            "Epoch 35/62\n",
            "624/624 - 4s - loss: 0.0995 - accuracy: 0.9635 - val_loss: 0.1399 - val_accuracy: 0.9798\n",
            "Epoch 36/62\n",
            "624/624 - 4s - loss: 0.0967 - accuracy: 0.9650 - val_loss: 0.1120 - val_accuracy: 0.9808\n",
            "Epoch 37/62\n",
            "624/624 - 4s - loss: 0.1010 - accuracy: 0.9636 - val_loss: 0.1305 - val_accuracy: 0.9772\n",
            "Epoch 38/62\n",
            "624/624 - 4s - loss: 0.0917 - accuracy: 0.9665 - val_loss: 0.1244 - val_accuracy: 0.9774\n",
            "Epoch 39/62\n",
            "624/624 - 4s - loss: 0.0951 - accuracy: 0.9662 - val_loss: 0.1507 - val_accuracy: 0.9804\n",
            "Epoch 40/62\n",
            "624/624 - 4s - loss: 0.0927 - accuracy: 0.9683 - val_loss: 0.1172 - val_accuracy: 0.9792\n",
            "Epoch 41/62\n",
            "624/624 - 4s - loss: 0.0927 - accuracy: 0.9662 - val_loss: 0.1404 - val_accuracy: 0.9772\n",
            "Epoch 42/62\n",
            "624/624 - 4s - loss: 0.0873 - accuracy: 0.9689 - val_loss: 0.0961 - val_accuracy: 0.9860\n",
            "Epoch 43/62\n",
            "624/624 - 4s - loss: 0.0846 - accuracy: 0.9700 - val_loss: 0.1051 - val_accuracy: 0.9804\n",
            "Epoch 44/62\n",
            "624/624 - 4s - loss: 0.0905 - accuracy: 0.9666 - val_loss: 0.0851 - val_accuracy: 0.9852\n",
            "Epoch 45/62\n",
            "624/624 - 4s - loss: 0.0870 - accuracy: 0.9683 - val_loss: 0.0933 - val_accuracy: 0.9830\n",
            "Epoch 46/62\n",
            "624/624 - 4s - loss: 0.0875 - accuracy: 0.9690 - val_loss: 0.1587 - val_accuracy: 0.9700\n",
            "Epoch 47/62\n",
            "624/624 - 4s - loss: 0.0865 - accuracy: 0.9673 - val_loss: 0.1331 - val_accuracy: 0.9776\n",
            "Epoch 48/62\n",
            "624/624 - 4s - loss: 0.0835 - accuracy: 0.9705 - val_loss: 0.1140 - val_accuracy: 0.9786\n",
            "Epoch 49/62\n",
            "624/624 - 4s - loss: 0.0817 - accuracy: 0.9710 - val_loss: 0.1128 - val_accuracy: 0.9774\n",
            "Epoch 50/62\n",
            "624/624 - 4s - loss: 0.0781 - accuracy: 0.9717 - val_loss: 0.1231 - val_accuracy: 0.9806\n",
            "Epoch 51/62\n",
            "624/624 - 4s - loss: 0.0757 - accuracy: 0.9730 - val_loss: 0.1413 - val_accuracy: 0.9710\n",
            "Epoch 52/62\n",
            "624/624 - 4s - loss: 0.0766 - accuracy: 0.9726 - val_loss: 0.1601 - val_accuracy: 0.9716\n",
            "Epoch 53/62\n",
            "624/624 - 4s - loss: 0.0787 - accuracy: 0.9732 - val_loss: 0.1056 - val_accuracy: 0.9786\n",
            "Epoch 54/62\n",
            "624/624 - 4s - loss: 0.0828 - accuracy: 0.9713 - val_loss: 0.1117 - val_accuracy: 0.9806\n",
            "Epoch 55/62\n",
            "624/624 - 4s - loss: 0.0755 - accuracy: 0.9735 - val_loss: 0.1245 - val_accuracy: 0.9704\n",
            "Epoch 56/62\n",
            "624/624 - 4s - loss: 0.0743 - accuracy: 0.9727 - val_loss: 0.0934 - val_accuracy: 0.9816\n",
            "Epoch 57/62\n",
            "624/624 - 4s - loss: 0.0720 - accuracy: 0.9739 - val_loss: 0.0952 - val_accuracy: 0.9788\n",
            "Epoch 58/62\n",
            "624/624 - 4s - loss: 0.0709 - accuracy: 0.9756 - val_loss: 0.1063 - val_accuracy: 0.9808\n",
            "Epoch 59/62\n",
            "624/624 - 4s - loss: 0.0684 - accuracy: 0.9761 - val_loss: 0.1026 - val_accuracy: 0.9798\n",
            "Epoch 60/62\n",
            "624/624 - 4s - loss: 0.0661 - accuracy: 0.9761 - val_loss: 0.1227 - val_accuracy: 0.9712\n",
            "Epoch 61/62\n",
            "624/624 - 4s - loss: 0.0646 - accuracy: 0.9772 - val_loss: 0.1188 - val_accuracy: 0.9788\n",
            "Epoch 62/62\n",
            "624/624 - 4s - loss: 0.0644 - accuracy: 0.9760 - val_loss: 0.1262 - val_accuracy: 0.9752\n"
          ],
          "name": "stdout"
        }
      ]
    },
    {
      "cell_type": "code",
      "metadata": {
        "colab": {
          "base_uri": "https://localhost:8080/"
        },
        "id": "Mml_YeL_o83_",
        "outputId": "a1599c0b-193d-43de-fdab-16e63269c452"
      },
      "source": [
        "tf.keras.callbacks.ModelCheckpoint"
      ],
      "execution_count": null,
      "outputs": [
        {
          "output_type": "execute_result",
          "data": {
            "text/plain": [
              "tensorflow.python.keras.callbacks.ModelCheckpoint"
            ]
          },
          "metadata": {
            "tags": []
          },
          "execution_count": 186
        }
      ]
    },
    {
      "cell_type": "code",
      "metadata": {
        "colab": {
          "base_uri": "https://localhost:8080/",
          "height": 295
        },
        "id": "0AiUqp8lsxHt",
        "outputId": "45aa1653-4af1-4b73-a14d-995fb49f826b"
      },
      "source": [
        "# plotting the accuracies\n",
        "\n",
        "plt.plot(history_model_2.history['accuracy'])\n",
        "plt.plot(history_model_2.history['val_accuracy'])\n",
        "plt.title('Accuracy vs Epochs')\n",
        "plt.ylabel('Accuracy')\n",
        "plt.xlabel('Epoch')\n",
        "plt.legend(['Train', 'Validation'], loc='lower right')\n",
        "plt.show()"
      ],
      "execution_count": null,
      "outputs": [
        {
          "output_type": "display_data",
          "data": {
            "image/png": "[encoded data removed]",
            "text/plain": [
              "<Figure size 432x288 with 1 Axes>"
            ]
          },
          "metadata": {
            "tags": [],
            "needs_background": "light"
          }
        }
      ]
    },
    {
      "cell_type": "markdown",
      "metadata": {
        "id": "RAmrhfUJaY7L"
      },
      "source": [
        "\n",
        "**Observation :** \n",
        "\n",
        "- Overall, the model is performing better on the training dataset than the validation dataset. Even though the training accuracy decrease, we reduced the overfitting. \n",
        "\n",
        "- This model gives a generalized performance with 97.60% on the train and 97.52% on the validation dataset. \n",
        "\n",
        "- Even though the training accuracy goes down slightly, the model performance has improved compared to the previous model.\n",
        "\n",
        "- Around 60 epochs, the model's accuracy on the training and validation dataset is ~ 98%. As we can observe from the plot that the validation accuracy is almost same to the training accuracy. Hence, the model performance has improved and giving a generalized performance.\n"
      ]
    },
    {
      "cell_type": "code",
      "metadata": {
        "id": "ECLQlKZsuYNQ"
      },
      "source": [
        "# save it as a h5 file\n",
        "from tensorflow.keras.models import load_model\n",
        "model_2.save('model_2.h5')"
      ],
      "execution_count": null,
      "outputs": []
    },
    {
      "cell_type": "code",
      "metadata": {
        "id": "M3ijsGwd4-d8"
      },
      "source": [
        "from tensorflow.keras.models import load_model\n",
        "from tensorflow.keras.preprocessing import image\n",
        "model_2=load_model('model_2.h5')"
      ],
      "execution_count": null,
      "outputs": []
    },
    {
      "cell_type": "markdown",
      "metadata": {
        "id": "mXQPs6gc0fz6"
      },
      "source": [
        "**Predictions on the test data :**\n",
        "\n",
        "- Let's predict the test set using the second model, print the results using classification report and confusion matrix, and then write the observation from the obtained results."
      ]
    },
    {
      "cell_type": "markdown",
      "metadata": {
        "id": "XQ5HpTA9U6Ov"
      },
      "source": [
        "Let's **convert each entry of test_labels to a single label** to print the classification report and confusion matrix."
      ]
    },
    {
      "cell_type": "code",
      "metadata": {
        "id": "06YKjIOlUz7-"
      },
      "source": [
        "#Make prediction on the test data using model_2 \n",
        "test_pred = model_2.predict(test_images)\n",
        "\n",
        "test_pred = np.argmax(test_pred, axis=-1)"
      ],
      "execution_count": null,
      "outputs": []
    },
    {
      "cell_type": "code",
      "metadata": {
        "id": "Vb6YhWhaVACM"
      },
      "source": [
        "#Converting each entry to single label from one-hot encoded vector\n",
        "test_labels = np.argmax(test_labels, axis=-1)"
      ],
      "execution_count": null,
      "outputs": []
    },
    {
      "cell_type": "markdown",
      "metadata": {
        "id": "z6ca-lHPVDAb"
      },
      "source": [
        "let's write the **final observations on the performance of the model on the test data**"
      ]
    },
    {
      "cell_type": "code",
      "metadata": {
        "colab": {
          "base_uri": "https://localhost:8080/",
          "height": 520
        },
        "id": "eJ1xBTF_gOQJ",
        "outputId": "a65c1865-2c7e-403d-df88-5ca7ba9f2078"
      },
      "source": [
        "print(classification_report(test_labels, test_pred))\n",
        "cm = confusion_matrix(test_labels, test_pred)\n",
        "\n",
        "plt.subplots(1, 2, figsize=(10,5))\n",
        "plt.subplot(1, 2, 1)\n",
        "sns.heatmap(cm, annot=True,  fmt='.0f', xticklabels=['parasitized', 'uninfected'], yticklabels=['parasitized', 'uninfected'])\n",
        "plt.ylabel('Actual')\n",
        "plt.xlabel('Predicted')\n",
        "\n",
        "cm = confusion_matrix(test_labels, test_pred)\n",
        "plt.subplot(1, 2, 2)\n",
        "\n",
        "sns.heatmap(cm/np.sum(cm, axis =1), annot=True,\n",
        "            fmt='.2%', xticklabels=['parasitized', 'uninfected'], \n",
        "            yticklabels=['parasitized', 'uninfected'])\n",
        "plt.ylabel('Actual')\n",
        "plt.xlabel('Predicted')\n",
        "\n",
        "plt.tight_layout();\n",
        "plt.show()"
      ],
      "execution_count": null,
      "outputs": [
        {
          "output_type": "stream",
          "text": [
            "              precision    recall  f1-score   support\n",
            "\n",
            "           0       0.92      0.97      0.94      1300\n",
            "           1       0.96      0.92      0.94      1300\n",
            "\n",
            "    accuracy                           0.94      2600\n",
            "   macro avg       0.94      0.94      0.94      2600\n",
            "weighted avg       0.94      0.94      0.94      2600\n",
            "\n"
          ],
          "name": "stdout"
        },
        {
          "output_type": "display_data",
          "data": {
            "image/png": "[encoded data removed]",
            "text/plain": [
              "<Figure size 720x360 with 4 Axes>"
            ]
          },
          "metadata": {
            "tags": [],
            "needs_background": "light"
          }
        }
      ]
    },
    {
      "cell_type": "markdown",
      "metadata": {
        "id": "2ReyjPgRVXY_"
      },
      "source": [
        "**Observations :**\n",
        "\n",
        "- The model is giving about 94% accuracy on the testing dataset which is comparable to the accuracy of the validation dataset. However, model accuracy goes down from the 95% on the 1st model to 94% on the 2nd model. \n",
        "\n",
        "- We can see from the above confusion report that both precision and the recall score is only 92% that is lower than previous model.\n",
        "\n"
      ]
    },
    {
      "cell_type": "markdown",
      "metadata": {
        "id": "c8ZHNmDUyW8E"
      },
      "source": [
        "### **Hyperparameter Optimization - Keras-Tunner (CNN Model #2) :**"
      ]
    },
    {
      "cell_type": "markdown",
      "metadata": {
        "id": "6fHP4F6fyuc9"
      },
      "source": [
        "\"KerasTuner is an easy-to-use, scalable hyperparameter optimization framework that solves the pain points of hyperparameter search. Easily configure your search space with a define-by-run syntax, then leverage one of the available search algorithms to find the best hyperparameter values for your models. KerasTuner comes with Bayesian Optimization, Hyperband, and Random Search algorithms built-in, and is also designed to be easy for researchers to extend in order to experiment with new search algorithms.\" - https://keras.io/keras_tuner/"
      ]
    },
    {
      "cell_type": "code",
      "metadata": {
        "id": "4xjeENhINcQZ"
      },
      "source": [
        "import tensorflow as tf\n",
        "from tensorflow import keras"
      ],
      "execution_count": null,
      "outputs": []
    },
    {
      "cell_type": "code",
      "metadata": {
        "id": "Y9zER89sNfBF"
      },
      "source": [
        "pip install -q -U keras-tuner"
      ],
      "execution_count": null,
      "outputs": []
    },
    {
      "cell_type": "code",
      "metadata": {
        "colab": {
          "base_uri": "https://localhost:8080/"
        },
        "id": "zpMr8rxDr7fY",
        "outputId": "ca5f3de2-57c7-43b9-ba1b-e3b9fa4415ae"
      },
      "source": [
        "pip install keras-tuner"
      ],
      "execution_count": null,
      "outputs": [
        {
          "output_type": "stream",
          "text": [
            "Requirement already satisfied: keras-tuner in /usr/local/lib/python3.7/dist-packages (1.0.3)\n",
            "Requirement already satisfied: ipython in /usr/local/lib/python3.7/dist-packages (from keras-tuner) (5.5.0)\n",
            "Requirement already satisfied: numpy in /usr/local/lib/python3.7/dist-packages (from keras-tuner) (1.19.5)\n",
            "Requirement already satisfied: packaging in /usr/local/lib/python3.7/dist-packages (from keras-tuner) (21.0)\n",
            "Requirement already satisfied: tensorboard in /usr/local/lib/python3.7/dist-packages (from keras-tuner) (2.5.0)\n",
            "Requirement already satisfied: scipy in /usr/local/lib/python3.7/dist-packages (from keras-tuner) (1.4.1)\n",
            "Requirement already satisfied: requests in /usr/local/lib/python3.7/dist-packages (from keras-tuner) (2.23.0)\n",
            "Requirement already satisfied: kt-legacy in /usr/local/lib/python3.7/dist-packages (from keras-tuner) (1.0.4)\n",
            "Requirement already satisfied: pygments in /usr/local/lib/python3.7/dist-packages (from ipython->keras-tuner) (2.6.1)\n",
            "Requirement already satisfied: decorator in /usr/local/lib/python3.7/dist-packages (from ipython->keras-tuner) (4.4.2)\n",
            "Requirement already satisfied: setuptools>=18.5 in /usr/local/lib/python3.7/dist-packages (from ipython->keras-tuner) (57.4.0)\n",
            "Requirement already satisfied: pickleshare in /usr/local/lib/python3.7/dist-packages (from ipython->keras-tuner) (0.7.5)\n",
            "Requirement already satisfied: pexpect in /usr/local/lib/python3.7/dist-packages (from ipython->keras-tuner) (4.8.0)\n",
            "Requirement already satisfied: simplegeneric>0.8 in /usr/local/lib/python3.7/dist-packages (from ipython->keras-tuner) (0.8.1)\n",
            "Requirement already satisfied: traitlets>=4.2 in /usr/local/lib/python3.7/dist-packages (from ipython->keras-tuner) (5.0.5)\n",
            "Requirement already satisfied: prompt-toolkit<2.0.0,>=1.0.4 in /usr/local/lib/python3.7/dist-packages (from ipython->keras-tuner) (1.0.18)\n",
            "Requirement already satisfied: wcwidth in /usr/local/lib/python3.7/dist-packages (from prompt-toolkit<2.0.0,>=1.0.4->ipython->keras-tuner) (0.2.5)\n",
            "Requirement already satisfied: six>=1.9.0 in /usr/local/lib/python3.7/dist-packages (from prompt-toolkit<2.0.0,>=1.0.4->ipython->keras-tuner) (1.15.0)\n",
            "Requirement already satisfied: ipython-genutils in /usr/local/lib/python3.7/dist-packages (from traitlets>=4.2->ipython->keras-tuner) (0.2.0)\n",
            "Requirement already satisfied: pyparsing>=2.0.2 in /usr/local/lib/python3.7/dist-packages (from packaging->keras-tuner) (2.4.7)\n",
            "Requirement already satisfied: ptyprocess>=0.5 in /usr/local/lib/python3.7/dist-packages (from pexpect->ipython->keras-tuner) (0.7.0)\n",
            "Requirement already satisfied: urllib3!=1.25.0,!=1.25.1,<1.26,>=1.21.1 in /usr/local/lib/python3.7/dist-packages (from requests->keras-tuner) (1.24.3)\n",
            "Requirement already satisfied: idna<3,>=2.5 in /usr/local/lib/python3.7/dist-packages (from requests->keras-tuner) (2.10)\n",
            "Requirement already satisfied: certifi>=2017.4.17 in /usr/local/lib/python3.7/dist-packages (from requests->keras-tuner) (2021.5.30)\n",
            "Requirement already satisfied: chardet<4,>=3.0.2 in /usr/local/lib/python3.7/dist-packages (from requests->keras-tuner) (3.0.4)\n",
            "Requirement already satisfied: werkzeug>=0.11.15 in /usr/local/lib/python3.7/dist-packages (from tensorboard->keras-tuner) (1.0.1)\n",
            "Requirement already satisfied: markdown>=2.6.8 in /usr/local/lib/python3.7/dist-packages (from tensorboard->keras-tuner) (3.3.4)\n",
            "Requirement already satisfied: google-auth-oauthlib<0.5,>=0.4.1 in /usr/local/lib/python3.7/dist-packages (from tensorboard->keras-tuner) (0.4.5)\n",
            "Requirement already satisfied: tensorboard-plugin-wit>=1.6.0 in /usr/local/lib/python3.7/dist-packages (from tensorboard->keras-tuner) (1.8.0)\n",
            "Requirement already satisfied: tensorboard-data-server<0.7.0,>=0.6.0 in /usr/local/lib/python3.7/dist-packages (from tensorboard->keras-tuner) (0.6.1)\n",
            "Requirement already satisfied: absl-py>=0.4 in /usr/local/lib/python3.7/dist-packages (from tensorboard->keras-tuner) (0.12.0)\n",
            "Requirement already satisfied: protobuf>=3.6.0 in /usr/local/lib/python3.7/dist-packages (from tensorboard->keras-tuner) (3.17.3)\n",
            "Requirement already satisfied: google-auth<2,>=1.6.3 in /usr/local/lib/python3.7/dist-packages (from tensorboard->keras-tuner) (1.34.0)\n",
            "Requirement already satisfied: grpcio>=1.24.3 in /usr/local/lib/python3.7/dist-packages (from tensorboard->keras-tuner) (1.34.1)\n",
            "Requirement already satisfied: wheel>=0.26 in /usr/local/lib/python3.7/dist-packages (from tensorboard->keras-tuner) (0.37.0)\n",
            "Requirement already satisfied: cachetools<5.0,>=2.0.0 in /usr/local/lib/python3.7/dist-packages (from google-auth<2,>=1.6.3->tensorboard->keras-tuner) (4.2.2)\n",
            "Requirement already satisfied: pyasn1-modules>=0.2.1 in /usr/local/lib/python3.7/dist-packages (from google-auth<2,>=1.6.3->tensorboard->keras-tuner) (0.2.8)\n",
            "Requirement already satisfied: rsa<5,>=3.1.4 in /usr/local/lib/python3.7/dist-packages (from google-auth<2,>=1.6.3->tensorboard->keras-tuner) (4.7.2)\n",
            "Requirement already satisfied: requests-oauthlib>=0.7.0 in /usr/local/lib/python3.7/dist-packages (from google-auth-oauthlib<0.5,>=0.4.1->tensorboard->keras-tuner) (1.3.0)\n",
            "Requirement already satisfied: importlib-metadata in /usr/local/lib/python3.7/dist-packages (from markdown>=2.6.8->tensorboard->keras-tuner) (4.6.3)\n",
            "Requirement already satisfied: pyasn1<0.5.0,>=0.4.6 in /usr/local/lib/python3.7/dist-packages (from pyasn1-modules>=0.2.1->google-auth<2,>=1.6.3->tensorboard->keras-tuner) (0.4.8)\n",
            "Requirement already satisfied: oauthlib>=3.0.0 in /usr/local/lib/python3.7/dist-packages (from requests-oauthlib>=0.7.0->google-auth-oauthlib<0.5,>=0.4.1->tensorboard->keras-tuner) (3.1.1)\n",
            "Requirement already satisfied: zipp>=0.5 in /usr/local/lib/python3.7/dist-packages (from importlib-metadata->markdown>=2.6.8->tensorboard->keras-tuner) (3.5.0)\n",
            "Requirement already satisfied: typing-extensions>=3.6.4 in /usr/local/lib/python3.7/dist-packages (from importlib-metadata->markdown>=2.6.8->tensorboard->keras-tuner) (3.7.4.3)\n"
          ],
          "name": "stdout"
        }
      ]
    },
    {
      "cell_type": "code",
      "metadata": {
        "id": "aj3Ejm6qNkA2"
      },
      "source": [
        "import keras_tuner as kt\n"
      ],
      "execution_count": null,
      "outputs": []
    },
    {
      "cell_type": "code",
      "metadata": {
        "colab": {
          "base_uri": "https://localhost:8080/"
        },
        "id": "TJx56W1Fs3li",
        "outputId": "7cbf3a92-03d2-4d18-bb1d-d21e63cdf466"
      },
      "source": [
        "#Check tensorflow and kerastuner versions\n",
        "import tensorflow as tf\n",
        "import kerastuner as kt\n",
        "\n",
        "print(tf.__version__)\n",
        "print(kt.__version__)"
      ],
      "execution_count": null,
      "outputs": [
        {
          "output_type": "stream",
          "text": [
            "2.5.0\n",
            "1.0.3\n"
          ],
          "name": "stdout"
        }
      ]
    },
    {
      "cell_type": "code",
      "metadata": {
        "id": "__0yykJns5VY"
      },
      "source": [
        "#let's import the necessary library \n",
        "from sklearn.preprocessing import StandardScaler\n",
        "from tensorflow.keras import models, layers\n",
        "from kerastuner import HyperModel, RandomSearch, Hyperband, BayesianOptimization\n",
        "from tensorflow.keras.models import Sequential"
      ],
      "execution_count": null,
      "outputs": []
    },
    {
      "cell_type": "code",
      "metadata": {
        "id": "mVnhVLAjs_S9"
      },
      "source": [
        "#Fixing the seed for random number generators\n",
        "from numpy.random import seed\n",
        "seed(42)\n",
        "import tensorflow\n",
        "tensorflow.random.set_seed(42)"
      ],
      "execution_count": null,
      "outputs": []
    },
    {
      "cell_type": "markdown",
      "metadata": {
        "id": "KNQKotyHzh4c"
      },
      "source": [
        "**Let's prepare a model-building function**"
      ]
    },
    {
      "cell_type": "code",
      "metadata": {
        "id": "cmYxavodurca"
      },
      "source": [
        "#Define the function\n",
        "def model_builder(hp):\n",
        "  model_2= Sequential()\n",
        "\n",
        "  model_2.add(Conv2D(32, (3, 3), input_shape = (64, 64, 3), activation = 'relu'))\n",
        "  model_2.add(MaxPool2D(pool_size = (2, 2), data_format=\"channels_last\"))\n",
        "  model_2.add(BatchNormalization(axis = -1))\n",
        "  model_2.add(Dropout(0.2))\n",
        "\n",
        "  # test 32 and 64 for layer 2\n",
        "  layers = hp.Int('units', min_value=32, max_value=64, step=32)\n",
        "  model_2.add(Conv2D(layers, (3, 3), activation = 'relu'))\n",
        "\n",
        "  model_2.add(MaxPool2D(pool_size = (2, 2), data_format=\"channels_last\"))\n",
        "  model_2.add(BatchNormalization(axis = -1))\n",
        "  model_2.add(Dropout(0.2))\n",
        "  model_2.add(Flatten())\n",
        "\n",
        "  model_2.add(Dense(activation = 'relu', units=512))\n",
        "  model_2.add(BatchNormalization())\n",
        "  model_2.add(Dropout(0.2))\n",
        "\n",
        "  model_2.add(Dense(activation = 'relu', units=256))\n",
        "  model_2.add(BatchNormalization(axis = -1))\n",
        "  model_2.add(Dropout(0.2))\n",
        "\n",
        "  activation=hp.Choice(\n",
        "                    'dense_activation',\n",
        "                    values=['relu', 'tanh', 'sigmoid'],\n",
        "                    default='relu')\n",
        "  model_2.add(Dense(activation = activation, units=2))\n",
        "\n",
        "  #compile the model\n",
        "  hp_learning_rate = hp.Choice('learning_rate', values=[1e-2, 1e-3, 1e-4])\n",
        "  model_2.compile(optimizer = keras.optimizers.Adam(learning_rate=hp_learning_rate),\n",
        "                 loss = 'categorical_crossentropy',\n",
        "                 metrics = ['accuracy'])\n",
        "  return model_2"
      ],
      "execution_count": null,
      "outputs": []
    },
    {
      "cell_type": "markdown",
      "metadata": {
        "id": "bq4TscIw0Ib_"
      },
      "source": [
        "- **Let's build, Run, and Evaluate Hyperband Tuner :** "
      ]
    },
    {
      "cell_type": "code",
      "metadata": {
        "colab": {
          "base_uri": "https://localhost:8080/"
        },
        "id": "9JF3hAIJLx-V",
        "outputId": "f9949a57-cee3-4ca1-e7eb-74dad314c5b9"
      },
      "source": [
        "tuner = kt.Hyperband(model_builder,\n",
        "                     objective='val_accuracy',\n",
        "                     max_epochs=10,\n",
        "                     factor=3,\n",
        "                     directory='my_dir',\n",
        "                     project_name='Malaria detection')"
      ],
      "execution_count": null,
      "outputs": [
        {
          "output_type": "stream",
          "text": [
            "INFO:tensorflow:Reloading Oracle from existing project my_dir/Malaria detection/oracle.json\n",
            "INFO:tensorflow:Reloading Tuner from my_dir/Malaria detection/tuner0.json\n"
          ],
          "name": "stdout"
        }
      ]
    },
    {
      "cell_type": "code",
      "metadata": {
        "colab": {
          "base_uri": "https://localhost:8080/"
        },
        "id": "DQDVNv4_L2tG",
        "outputId": "fee543a4-c9b5-4ed0-ce3d-8df4fb0cd3bf"
      },
      "source": [
        "tf.keras.callbacks.ModelCheckpoint"
      ],
      "execution_count": null,
      "outputs": [
        {
          "output_type": "execute_result",
          "data": {
            "text/plain": [
              "tensorflow.python.keras.callbacks.ModelCheckpoint"
            ]
          },
          "metadata": {
            "tags": []
          },
          "execution_count": 200
        }
      ]
    },
    {
      "cell_type": "code",
      "metadata": {
        "id": "2IXGPeGXN7zX"
      },
      "source": [
        "stop_early = tf.keras.callbacks.EarlyStopping(monitor='val_loss', patience=5)"
      ],
      "execution_count": null,
      "outputs": []
    },
    {
      "cell_type": "code",
      "metadata": {
        "colab": {
          "base_uri": "https://localhost:8080/"
        },
        "id": "7nHt_yy5v1TD",
        "outputId": "508463a8-4a55-4cb0-d070-24b683464dac"
      },
      "source": [
        "# train each model \n",
        "tuner.search(train_images, train_labels, epochs=50, validation_split=0.1, callbacks=[stop_early])"
      ],
      "execution_count": null,
      "outputs": [
        {
          "output_type": "stream",
          "text": [
            "INFO:tensorflow:Oracle triggered exit\n"
          ],
          "name": "stdout"
        }
      ]
    },
    {
      "cell_type": "code",
      "metadata": {
        "colab": {
          "base_uri": "https://localhost:8080/"
        },
        "id": "qLwi2ekh0fTl",
        "outputId": "fb2f4c2a-82bf-409f-b629-4754405efc65"
      },
      "source": [
        "# show results\n",
        "tuner.results_summary()"
      ],
      "execution_count": null,
      "outputs": [
        {
          "output_type": "stream",
          "text": [
            "Results summary\n",
            "Results in my_dir/Malaria detection\n",
            "Showing 10 best trials\n",
            "Objective(name='val_accuracy', direction='max')\n",
            "Trial summary\n",
            "Hyperparameters:\n",
            "units: 32\n",
            "dense_activation: tanh\n",
            "learning_rate: 0.01\n",
            "tuner/epochs: 10\n",
            "tuner/initial_epoch: 4\n",
            "tuner/bracket: 2\n",
            "tuner/round: 2\n",
            "tuner/trial_id: 1a9164cefeeda964f1e358897dbc8859\n",
            "Score: 1.0\n",
            "Trial summary\n",
            "Hyperparameters:\n",
            "units: 32\n",
            "dense_activation: tanh\n",
            "learning_rate: 0.01\n",
            "tuner/epochs: 2\n",
            "tuner/initial_epoch: 0\n",
            "tuner/bracket: 2\n",
            "tuner/round: 0\n",
            "Score: 1.0\n",
            "Trial summary\n",
            "Hyperparameters:\n",
            "units: 32\n",
            "dense_activation: tanh\n",
            "learning_rate: 0.01\n",
            "tuner/epochs: 4\n",
            "tuner/initial_epoch: 2\n",
            "tuner/bracket: 2\n",
            "tuner/round: 1\n",
            "tuner/trial_id: a779ce9cce00890789a081a9c8bbe49c\n",
            "Score: 1.0\n",
            "Trial summary\n",
            "Hyperparameters:\n",
            "units: 64\n",
            "dense_activation: tanh\n",
            "learning_rate: 0.01\n",
            "tuner/epochs: 4\n",
            "tuner/initial_epoch: 0\n",
            "tuner/bracket: 1\n",
            "tuner/round: 0\n",
            "Score: 1.0\n",
            "Trial summary\n",
            "Hyperparameters:\n",
            "units: 32\n",
            "dense_activation: sigmoid\n",
            "learning_rate: 0.01\n",
            "tuner/epochs: 4\n",
            "tuner/initial_epoch: 2\n",
            "tuner/bracket: 2\n",
            "tuner/round: 1\n",
            "tuner/trial_id: dd5e67650a547382f0c2b2bf116f2ef9\n",
            "Score: 0.9971955418586731\n",
            "Trial summary\n",
            "Hyperparameters:\n",
            "units: 64\n",
            "dense_activation: sigmoid\n",
            "learning_rate: 0.01\n",
            "tuner/epochs: 2\n",
            "tuner/initial_epoch: 0\n",
            "tuner/bracket: 2\n",
            "tuner/round: 0\n",
            "Score: 0.9915865659713745\n",
            "Trial summary\n",
            "Hyperparameters:\n",
            "units: 32\n",
            "dense_activation: sigmoid\n",
            "learning_rate: 0.01\n",
            "tuner/epochs: 10\n",
            "tuner/initial_epoch: 4\n",
            "tuner/bracket: 2\n",
            "tuner/round: 2\n",
            "tuner/trial_id: af9cdc827aaa01b08214094f6ccbde7a\n",
            "Score: 0.9839743375778198\n",
            "Trial summary\n",
            "Hyperparameters:\n",
            "units: 64\n",
            "dense_activation: sigmoid\n",
            "learning_rate: 0.01\n",
            "tuner/epochs: 4\n",
            "tuner/initial_epoch: 2\n",
            "tuner/bracket: 2\n",
            "tuner/round: 1\n",
            "tuner/trial_id: 5ee6e9eb4cfb23424dd3f25b8771185b\n",
            "Score: 0.9819711446762085\n",
            "Trial summary\n",
            "Hyperparameters:\n",
            "units: 64\n",
            "dense_activation: sigmoid\n",
            "learning_rate: 0.0001\n",
            "tuner/epochs: 4\n",
            "tuner/initial_epoch: 2\n",
            "tuner/bracket: 2\n",
            "tuner/round: 1\n",
            "tuner/trial_id: 22d4c4ba66c059012ced8755af6d0a41\n",
            "Score: 0.9771634340286255\n",
            "Trial summary\n",
            "Hyperparameters:\n",
            "units: 64\n",
            "dense_activation: sigmoid\n",
            "learning_rate: 0.0001\n",
            "tuner/epochs: 2\n",
            "tuner/initial_epoch: 0\n",
            "tuner/bracket: 2\n",
            "tuner/round: 0\n",
            "Score: 0.9727563858032227\n"
          ],
          "name": "stdout"
        }
      ]
    },
    {
      "cell_type": "code",
      "metadata": {
        "id": "QTp-Vsfd0iH5"
      },
      "source": [
        "# Get the optimal hyperparameters\n",
        "best_hps=tuner.get_best_hyperparameters(num_trials=1)[0]"
      ],
      "execution_count": null,
      "outputs": []
    },
    {
      "cell_type": "code",
      "metadata": {
        "id": "3Hq17tkw0jQH"
      },
      "source": [
        "# get the best model\n",
        "model_best = tuner.get_best_models(num_models=1)"
      ],
      "execution_count": null,
      "outputs": []
    },
    {
      "cell_type": "code",
      "metadata": {
        "colab": {
          "base_uri": "https://localhost:8080/"
        },
        "id": "aSGVjT7S7EVW",
        "outputId": "395a02e7-59c1-4b9a-d1f6-e4169146193f"
      },
      "source": [
        "print(f\"\"\"\n",
        "The hyperparameter search is complete. The optimal number of units in the first densely-connected\n",
        "layer is {best_hps.get('units')} and the optimal learning rate for the optimizer\n",
        "is {best_hps.get('learning_rate')}.\n",
        "\"\"\")"
      ],
      "execution_count": null,
      "outputs": [
        {
          "output_type": "stream",
          "text": [
            "\n",
            "The hyperparameter search is complete. The optimal number of units in the first densely-connected\n",
            "layer is 32 and the optimal learning rate for the optimizer\n",
            "is 0.01.\n",
            "\n"
          ],
          "name": "stdout"
        }
      ]
    },
    {
      "cell_type": "code",
      "metadata": {
        "colab": {
          "base_uri": "https://localhost:8080/"
        },
        "id": "EiNt_Yd2OwpY",
        "outputId": "aef66f84-f5c2-4bab-dc2d-4859ecb9175c"
      },
      "source": [
        "# Build the model with the optimal hyperparameters and train it on the data for 10 epochs\n",
        "model = tuner.hypermodel.build(best_hps)\n",
        "history = model.fit(train_images, train_labels,  epochs=10, validation_split=0.2)\n",
        "\n",
        "val_acc_per_epoch = history.history['val_accuracy']\n",
        "best_epoch = val_acc_per_epoch.index(max(val_acc_per_epoch)) + 1\n",
        "print('Best epoch: %d' % (best_epoch,))"
      ],
      "execution_count": null,
      "outputs": [
        {
          "output_type": "stream",
          "text": [
            "Epoch 1/10\n",
            "624/624 [==============================] - 6s 7ms/step - loss: nan - accuracy: 0.3759 - val_loss: nan - val_accuracy: 1.0000\n",
            "Epoch 2/10\n",
            "624/624 [==============================] - 4s 7ms/step - loss: nan - accuracy: 0.3750 - val_loss: nan - val_accuracy: 1.0000\n",
            "Epoch 3/10\n",
            "624/624 [==============================] - 4s 7ms/step - loss: nan - accuracy: 0.3750 - val_loss: nan - val_accuracy: 1.0000\n",
            "Epoch 4/10\n",
            "624/624 [==============================] - 4s 7ms/step - loss: nan - accuracy: 0.3750 - val_loss: nan - val_accuracy: 1.0000\n",
            "Epoch 5/10\n",
            "624/624 [==============================] - 4s 7ms/step - loss: nan - accuracy: 0.3750 - val_loss: nan - val_accuracy: 1.0000\n",
            "Epoch 6/10\n",
            "624/624 [==============================] - 4s 7ms/step - loss: nan - accuracy: 0.3750 - val_loss: nan - val_accuracy: 1.0000\n",
            "Epoch 7/10\n",
            "624/624 [==============================] - 4s 7ms/step - loss: nan - accuracy: 0.3750 - val_loss: nan - val_accuracy: 1.0000\n",
            "Epoch 8/10\n",
            "624/624 [==============================] - 4s 7ms/step - loss: nan - accuracy: 0.3750 - val_loss: nan - val_accuracy: 1.0000\n",
            "Epoch 9/10\n",
            "624/624 [==============================] - 4s 7ms/step - loss: nan - accuracy: 0.3750 - val_loss: nan - val_accuracy: 1.0000\n",
            "Epoch 10/10\n",
            "624/624 [==============================] - 4s 7ms/step - loss: nan - accuracy: 0.3750 - val_loss: nan - val_accuracy: 1.0000\n",
            "Best epoch: 1\n"
          ],
          "name": "stdout"
        }
      ]
    },
    {
      "cell_type": "code",
      "metadata": {
        "colab": {
          "base_uri": "https://localhost:8080/"
        },
        "id": "L6YWJzon4SZm",
        "outputId": "2c260d44-eaf8-4b90-d174-6e8a8a67c54f"
      },
      "source": [
        "#Re-instantiate the hypermodel and train it with the optimal number of epochs from above.\n",
        "hypermodel = tuner.hypermodel.build(best_hps)\n",
        "\n",
        "# Retrain the model\n",
        "hypermodel.fit(train_images, train_labels, epochs=best_epoch, validation_split=0.2)"
      ],
      "execution_count": null,
      "outputs": [
        {
          "output_type": "stream",
          "text": [
            "624/624 [==============================] - 6s 7ms/step - loss: nan - accuracy: 0.3984 - val_loss: nan - val_accuracy: 1.0000\n"
          ],
          "name": "stdout"
        },
        {
          "output_type": "execute_result",
          "data": {
            "text/plain": [
              "<tensorflow.python.keras.callbacks.History at 0x7f8ad80838d0>"
            ]
          },
          "metadata": {
            "tags": []
          },
          "execution_count": 216
        }
      ]
    },
    {
      "cell_type": "code",
      "metadata": {
        "colab": {
          "base_uri": "https://localhost:8080/"
        },
        "id": "wK5o3-IK4jEr",
        "outputId": "c07e4dcb-e278-4a13-ec56-8eaf00e1ef57"
      },
      "source": [
        "eval_result = hypermodel.evaluate(test_images, test_labels)\n",
        "print(\"[test loss, test accuracy]:\", eval_result)"
      ],
      "execution_count": null,
      "outputs": [
        {
          "output_type": "stream",
          "text": [
            "82/82 [==============================] - 0s 3ms/step - loss: nan - accuracy: 0.5000\n",
            "[test loss, test accuracy]: [nan, 0.5]\n"
          ],
          "name": "stdout"
        }
      ]
    },
    {
      "cell_type": "code",
      "metadata": {
        "colab": {
          "base_uri": "https://localhost:8080/"
        },
        "id": "UTjlqJTn6QfP",
        "outputId": "3012f723-918d-490d-89d7-49d9ad3f2d04"
      },
      "source": [
        "print(\"Test_Accuracy: {:.2f}%\".format(model.evaluate(np.array(test_images), test_labels)[1]*100))"
      ],
      "execution_count": null,
      "outputs": [
        {
          "output_type": "stream",
          "text": [
            "82/82 [==============================] - 0s 4ms/step - loss: nan - accuracy: 0.5000\n",
            "Test_Accuracy: 50.00%\n"
          ],
          "name": "stdout"
        }
      ]
    },
    {
      "cell_type": "markdown",
      "metadata": {
        "id": "evVn8tjzmthW"
      },
      "source": [
        "**Observations:**\n",
        "\n",
        "- Test Accuracy is only 50%"
      ]
    },
    {
      "cell_type": "markdown",
      "metadata": {
        "id": "FFUerAtis0Av"
      },
      "source": [
        "### **CNNs Model 3 :**"
      ]
    },
    {
      "cell_type": "markdown",
      "metadata": {
        "id": "MLXBYQqmr-K0"
      },
      "source": [
        "**Image Manipulation :**\n",
        "\n",
        "- Image manipulation involves the process of manipulating the image with rotation, resizing, and scaling so the model becomes more robust to different images that our dataset doesn't have. We will build the 3rd CNN model now implementing image manipulating by using ImageDataGenerator."
      ]
    },
    {
      "cell_type": "code",
      "metadata": {
        "id": "FZ9VKtq9fPdR"
      },
      "source": [
        "#Clearing backend\n",
        "from tensorflow.keras import backend\n",
        "backend.clear_session()"
      ],
      "execution_count": null,
      "outputs": []
    },
    {
      "cell_type": "code",
      "metadata": {
        "id": "5Xbs6gGOfQ4J"
      },
      "source": [
        "#Fixing the seed for random number generators\n",
        "np.random.seed(42)\n",
        "import random\n",
        "random.seed(42)\n",
        "tf.random.set_seed(42)"
      ],
      "execution_count": null,
      "outputs": []
    },
    {
      "cell_type": "code",
      "metadata": {
        "id": "kkIKHWRJeBqm"
      },
      "source": [
        "#image manipulation\n",
        "from tensorflow.keras.preprocessing.image import ImageDataGenerator\n",
        "image_gen = ImageDataGenerator(rotation_range=20, # let's rotate the image 20 degrees\n",
        "                               width_shift_range=0.10, # let's shift the pic width by a max of 5%\n",
        "                               height_shift_range=0.10, # let's shift the pic height by a max of 5%\n",
        "                               rescale=1/255, # let's rescale the image by normalzing it.\n",
        "                               shear_range=0.1, # let's shear means cutting away part of the image (max 10%)\n",
        "                               zoom_range=0.1, # Zoom in by 10% max\n",
        "                               horizontal_flip=True, # Allo horizontal flipping\n",
        "                               fill_mode='nearest' # Fill in missing pixels with the nearest filled value\n",
        "                               )"
      ],
      "execution_count": null,
      "outputs": []
    },
    {
      "cell_type": "code",
      "metadata": {
        "id": "qdPHyT2qhbh4"
      },
      "source": [
        "from tensorflow.keras.models import Sequential\n",
        "from tensorflow.keras.layers import Activation, Dropout, Flatten, Dense, Conv2D, MaxPooling2D\n",
        "import warnings\n",
        "warnings.filterwarnings(\"ignore\")\n",
        "\n",
        "# let's initialize the 3rd CNN model\n",
        "model_3 = Sequential()\n",
        "\n",
        "#1st Convolutional layer\n",
        "model_3.add(Conv2D(filters=32, kernel_size=(3,3),activation='relu', input_shape =(64, 64, 3)))\n",
        "model_3.add(MaxPool2D(pool_size=(2, 2)))\n",
        "\n",
        "#2 - Pooling\n",
        "# Hidden Layer 1\n",
        "model_3.add(Conv2D(filters=64, kernel_size=(3,3), activation='relu', input_shape =(64, 64, 3)))\n",
        "model_3.add(MaxPool2D(pool_size=(2, 2)))\n",
        "\n",
        "# Adding a 2nd convolution layer\n",
        "# relu turns negative values in images to 0\n",
        "model_3.add(Conv2D(filters=64, kernel_size=(3,3), activation='relu', input_shape =(64, 64, 3)))\n",
        "model_3.add(MaxPool2D(pool_size=(2, 2)))\n",
        "\n",
        "#3 - let's flatten\n",
        "# converts the matrix in a singe array\n",
        "model_3.add(Flatten())\n",
        "\n",
        "\n",
        "model_3.add(Dense(128))\n",
        "model_3.add(Activation('relu'))\n",
        "\n",
        "\n",
        "# As dropout help reduce overfitting by randomly turning neurons off during training.\n",
        "# let's say randomly turn off 50% of neurons.\n",
        "model_3.add(Dropout(0.5))\n",
        "\n",
        "#4 - Full Connection\n",
        "# 128 is the final layer of outputs & from that 1 will be considered.\n",
        "# Last layer, remember its binary so we use sigmoid\n",
        "model_3.add(Dense(1))\n",
        "model_3.add(Activation('sigmoid'))"
      ],
      "execution_count": null,
      "outputs": []
    },
    {
      "cell_type": "code",
      "metadata": {
        "id": "8WgdX9tkh3Xo"
      },
      "source": [
        "#compile the 3rd CNN model\n",
        "model_3.compile(loss='binary_crossentropy',\n",
        "              optimizer='adam',\n",
        "              metrics=['accuracy'])"
      ],
      "execution_count": null,
      "outputs": []
    },
    {
      "cell_type": "code",
      "metadata": {
        "colab": {
          "base_uri": "https://localhost:8080/"
        },
        "id": "BOYRgZgdjXMS",
        "outputId": "edf7c65f-2f2e-45f5-bc99-d7292c4730ba"
      },
      "source": [
        "#model 3 summary\n",
        "model_3.summary()"
      ],
      "execution_count": null,
      "outputs": [
        {
          "output_type": "stream",
          "text": [
            "Model: \"sequential\"\n",
            "_________________________________________________________________\n",
            "Layer (type)                 Output Shape              Param #   \n",
            "=================================================================\n",
            "conv2d (Conv2D)              (None, 62, 62, 32)        896       \n",
            "_________________________________________________________________\n",
            "max_pooling2d (MaxPooling2D) (None, 31, 31, 32)        0         \n",
            "_________________________________________________________________\n",
            "conv2d_1 (Conv2D)            (None, 29, 29, 64)        18496     \n",
            "_________________________________________________________________\n",
            "max_pooling2d_1 (MaxPooling2 (None, 14, 14, 64)        0         \n",
            "_________________________________________________________________\n",
            "conv2d_2 (Conv2D)            (None, 12, 12, 64)        36928     \n",
            "_________________________________________________________________\n",
            "max_pooling2d_2 (MaxPooling2 (None, 6, 6, 64)          0         \n",
            "_________________________________________________________________\n",
            "flatten (Flatten)            (None, 2304)              0         \n",
            "_________________________________________________________________\n",
            "dense (Dense)                (None, 128)               295040    \n",
            "_________________________________________________________________\n",
            "activation (Activation)      (None, 128)               0         \n",
            "_________________________________________________________________\n",
            "dropout (Dropout)            (None, 128)               0         \n",
            "_________________________________________________________________\n",
            "dense_1 (Dense)              (None, 1)                 129       \n",
            "_________________________________________________________________\n",
            "activation_1 (Activation)    (None, 1)                 0         \n",
            "=================================================================\n",
            "Total params: 351,489\n",
            "Trainable params: 351,489\n",
            "Non-trainable params: 0\n",
            "_________________________________________________________________\n"
          ],
          "name": "stdout"
        }
      ]
    },
    {
      "cell_type": "markdown",
      "metadata": {
        "id": "JDarVl2hkkUw"
      },
      "source": [
        "**Training CNNs Model 3 :**"
      ]
    },
    {
      "cell_type": "code",
      "metadata": {
        "id": "QLXO9ef-5hou"
      },
      "source": [
        "#early stopping \n",
        "from tensorflow.keras.callbacks import EarlyStopping\n",
        "early_stop = EarlyStopping(monitor='val_loss',patience=2)"
      ],
      "execution_count": null,
      "outputs": []
    },
    {
      "cell_type": "code",
      "metadata": {
        "colab": {
          "base_uri": "https://localhost:8080/"
        },
        "id": "Y7gxbNJZkueu",
        "outputId": "024eba2d-25a9-4957-e894-ee02bb401fe8"
      },
      "source": [
        "#training the model\n",
        "batch_size = 16\n",
        "train_image_gen = image_gen.flow_from_directory('/content/cell_images/train',\n",
        "                                               target_size=(64, 64),\n",
        "                                                color_mode='rgb',\n",
        "                                               batch_size=batch_size,\n",
        "                                               class_mode='binary')\n",
        "test_image_gen = image_gen.flow_from_directory('/content/cell_images/test',\n",
        "                                               target_size=(64, 64),\n",
        "                                               color_mode='rgb',\n",
        "                                               batch_size=batch_size,\n",
        "                                               class_mode='binary',shuffle=False)\n",
        "train_image_gen.class_indices"
      ],
      "execution_count": null,
      "outputs": [
        {
          "output_type": "stream",
          "text": [
            "Found 24958 images belonging to 2 classes.\n",
            "Found 2600 images belonging to 2 classes.\n"
          ],
          "name": "stdout"
        },
        {
          "output_type": "execute_result",
          "data": {
            "text/plain": [
              "{'parasitized': 0, 'uninfected': 1}"
            ]
          },
          "metadata": {
            "tags": []
          },
          "execution_count": 1082
        }
      ]
    },
    {
      "cell_type": "code",
      "metadata": {
        "colab": {
          "base_uri": "https://localhost:8080/"
        },
        "id": "fTRhQIY51i7n",
        "outputId": "610b0970-4d8d-4b23-eb97-eb54683e8e92"
      },
      "source": [
        "history_model_3 = model_3.fit_generator(train_image_gen,epochs=20,\n",
        "                              validation_data=test_image_gen,\n",
        "                             callbacks=[early_stop])"
      ],
      "execution_count": null,
      "outputs": [
        {
          "output_type": "stream",
          "text": [
            "Epoch 1/20\n",
            "1560/1560 [==============================] - 66s 42ms/step - loss: 0.3290 - accuracy: 0.8495 - val_loss: 0.2423 - val_accuracy: 0.9131\n",
            "Epoch 2/20\n",
            "1560/1560 [==============================] - 64s 41ms/step - loss: 0.1737 - accuracy: 0.9461 - val_loss: 0.1687 - val_accuracy: 0.9473\n",
            "Epoch 3/20\n",
            "1560/1560 [==============================] - 64s 41ms/step - loss: 0.1628 - accuracy: 0.9496 - val_loss: 0.2064 - val_accuracy: 0.9281\n",
            "Epoch 4/20\n",
            "1560/1560 [==============================] - 63s 41ms/step - loss: 0.1599 - accuracy: 0.9506 - val_loss: 0.1639 - val_accuracy: 0.9458\n",
            "Epoch 5/20\n",
            "1560/1560 [==============================] - 63s 40ms/step - loss: 0.1494 - accuracy: 0.9525 - val_loss: 0.1552 - val_accuracy: 0.9500\n",
            "Epoch 6/20\n",
            "1560/1560 [==============================] - 63s 40ms/step - loss: 0.1500 - accuracy: 0.9518 - val_loss: 0.1558 - val_accuracy: 0.9496\n",
            "Epoch 7/20\n",
            "1560/1560 [==============================] - 66s 43ms/step - loss: 0.1453 - accuracy: 0.9532 - val_loss: 0.1512 - val_accuracy: 0.9488\n",
            "Epoch 8/20\n",
            "1560/1560 [==============================] - 64s 41ms/step - loss: 0.1438 - accuracy: 0.9532 - val_loss: 0.1480 - val_accuracy: 0.9508\n",
            "Epoch 9/20\n",
            "1560/1560 [==============================] - 64s 41ms/step - loss: 0.1445 - accuracy: 0.9536 - val_loss: 0.1466 - val_accuracy: 0.9492\n",
            "Epoch 10/20\n",
            "1560/1560 [==============================] - 63s 40ms/step - loss: 0.1395 - accuracy: 0.9542 - val_loss: 0.1386 - val_accuracy: 0.9527\n",
            "Epoch 11/20\n",
            "1560/1560 [==============================] - 64s 41ms/step - loss: 0.1404 - accuracy: 0.9541 - val_loss: 0.1464 - val_accuracy: 0.9542\n",
            "Epoch 12/20\n",
            "1560/1560 [==============================] - 63s 41ms/step - loss: 0.1383 - accuracy: 0.9552 - val_loss: 0.1409 - val_accuracy: 0.9527\n"
          ],
          "name": "stdout"
        }
      ]
    },
    {
      "cell_type": "markdown",
      "metadata": {
        "id": "_G-LtR3Dz6n4"
      },
      "source": [
        "**Let's plot the validation and training accuracies:**"
      ]
    },
    {
      "cell_type": "code",
      "metadata": {
        "colab": {
          "base_uri": "https://localhost:8080/",
          "height": 602
        },
        "id": "P48_uJ6k13ZF",
        "outputId": "584fbc0f-d57d-4dc3-e720-cf0c84d18c20"
      },
      "source": [
        "import pandas as pd\n",
        "import matplotlib.pyplot as plt\n",
        "pd.DataFrame(history_model_3.history).plot(figsize=(8, 5))\n",
        "plt.grid(True)\n",
        "plt.gca().set_ylim(0,1) #set the vertical range to [0-1]\n",
        "plt.show()\n",
        "\n",
        "# plotting the accuracies\n",
        "\n",
        "plt.plot(history_model_3.history['accuracy'])\n",
        "plt.plot(history_model_3.history['val_accuracy'])\n",
        "plt.title('Accuracy vs Epochs')\n",
        "plt.ylabel('Accuracy')\n",
        "plt.xlabel('Epoch')\n",
        "plt.legend(['Train', 'Validation'], loc='lower right')\n",
        "plt.show()"
      ],
      "execution_count": null,
      "outputs": [
        {
          "output_type": "display_data",
          "data": {
            "image/png": "[encoded data removed]",
            "text/plain": [
              "<Figure size 576x360 with 1 Axes>"
            ]
          },
          "metadata": {
            "tags": [],
            "needs_background": "light"
          }
        },
        {
          "output_type": "display_data",
          "data": {
            "image/png": "[encoded data removed]",
            "text/plain": [
              "<Figure size 432x288 with 1 Axes>"
            ]
          },
          "metadata": {
            "tags": [],
            "needs_background": "light"
          }
        }
      ]
    },
    {
      "cell_type": "markdown",
      "metadata": {
        "id": "T-rljDGe8iMa"
      },
      "source": [
        "**Observations:**\n",
        "\n",
        "- The training accuracy and validation accuracy increases during the training, while the training loss and the validation loss decrease. Morever, the validation curve are closer to training curve, which means that there is not too much overfitting. \n",
        "\n",
        "- Training accuracy is 95.52%, and the validation accuracy is 95.27%.  \n",
        "\n",
        "- Even though **validation and training accuracy goes down slightly** in comparision to the model #2, there is less generalization gap between training and accuracy curve.\n",
        "\n",
        "- Overall, the model is performing better on the training dataset than the validation dataset. As we can see from the above plot that both both trainig and validation accuracy is at 95%"
      ]
    },
    {
      "cell_type": "code",
      "metadata": {
        "id": "zD-0Pi1TzxPz"
      },
      "source": [
        "# save it as a h5 file\n",
        "from tensorflow.keras.models import load_model\n",
        "model_3.save('model_3.h5')"
      ],
      "execution_count": null,
      "outputs": []
    },
    {
      "cell_type": "code",
      "metadata": {
        "id": "5ov3NI_gDVWf"
      },
      "source": [
        "from tensorflow.keras.models import load_model\n",
        "from tensorflow.keras.preprocessing import image\n",
        "model_3=load_model('model_3.h5')"
      ],
      "execution_count": null,
      "outputs": []
    },
    {
      "cell_type": "markdown",
      "metadata": {
        "id": "zm5_HpNxKV2O"
      },
      "source": [
        "**Predictions on the test data (CNN Model 3) :**\n",
        "\n",
        "- Let's predict the test set using the 3rd model, print the results using classification report and confusion matrix, and then write the observation from the obtained results."
      ]
    },
    {
      "cell_type": "markdown",
      "metadata": {
        "id": "V_o54TWwKuT7"
      },
      "source": [
        "**Final observations on the performance of the model on the test data**"
      ]
    },
    {
      "cell_type": "code",
      "metadata": {
        "colab": {
          "base_uri": "https://localhost:8080/",
          "height": 520
        },
        "id": "11-iME0BwAUb",
        "outputId": "61e353d3-8c27-4682-8b19-2e9b82efb2ff"
      },
      "source": [
        "#printing confusion report and heatmap\n",
        "from tensorflow.keras.preprocessing import image\n",
        "pred_probabilities = model_3.predict_generator(test_image_gen)\n",
        "pred_probabilities\n",
        "test_image_gen.classes\n",
        "predictions = pred_probabilities > 0.5\n",
        "print(classification_report(test_image_gen.classes, predictions))\n",
        "cm = confusion_matrix(test_image_gen.classes, predictions)\n",
        "\n",
        "plt.subplots(1, 2, figsize=(10,5))\n",
        "plt.subplot(1, 2, 1)\n",
        "sns.heatmap(cm, annot=True,  fmt='.0f', xticklabels=['parasitized', 'uninfected'], yticklabels=['parasitized', 'uninfected'])\n",
        "plt.ylabel('Actual')\n",
        "plt.xlabel('Predicted')\n",
        "\n",
        "cm = confusion_matrix(test_image_gen.classes, predictions)\n",
        "plt.subplot(1, 2, 2)\n",
        "\n",
        "sns.heatmap(cm/np.sum(cm, axis =1), annot=True,\n",
        "            fmt='.2%', xticklabels=['parasitized', 'uninfected'], \n",
        "            yticklabels=['parasitized', 'uninfected'])\n",
        "plt.ylabel('Actual')\n",
        "plt.xlabel('Predicted')\n",
        "\n",
        "plt.tight_layout();\n",
        "plt.show()"
      ],
      "execution_count": null,
      "outputs": [
        {
          "output_type": "stream",
          "text": [
            "              precision    recall  f1-score   support\n",
            "\n",
            "           0       0.96      0.94      0.95      1300\n",
            "           1       0.94      0.96      0.95      1300\n",
            "\n",
            "    accuracy                           0.95      2600\n",
            "   macro avg       0.95      0.95      0.95      2600\n",
            "weighted avg       0.95      0.95      0.95      2600\n",
            "\n"
          ],
          "name": "stdout"
        },
        {
          "output_type": "display_data",
          "data": {
            "image/png": "[encoded data removed]",
            "text/plain": [
              "<Figure size 720x360 with 4 Axes>"
            ]
          },
          "metadata": {
            "tags": [],
            "needs_background": "light"
          }
        }
      ]
    },
    {
      "cell_type": "markdown",
      "metadata": {
        "id": "YgVQ98uYqE9_"
      },
      "source": [
        "**Observations :** \n",
        "\n",
        "- The overall accuracy of the Model #3 goes up (95%) in comparision to the previous model (model #2) on the testing dataset. Besides, model #3 is performing better and giving higher precision (class 0) and recall score (class)\n",
        "\n",
        "- Class 0 is uninfected (healthy cell image), and class 1 is parasitized (infected malaria cell image). And the precision score (class 0) and recall (class 1) is 96%, which is higher than the previous model."
      ]
    },
    {
      "cell_type": "markdown",
      "metadata": {
        "id": "VJxNzenMe7ZJ"
      },
      "source": [
        "### **CNN Model 4 - Transfer Learning (VGG19) :**"
      ]
    },
    {
      "cell_type": "markdown",
      "metadata": {
        "id": "1htxHbJC43DZ"
      },
      "source": [
        "**Transfer learning** is a popular deep learning technique that **reuses a pre-trained model on a new problem**. **It can train deep neural networks with comparatively little data.** This is very useful in the data science field since most real-world problems typically do not have millions of labeled data points to train complex models.\n",
        "\n",
        "Let's begin by clearing the backend and fixing the seed."
      ]
    },
    {
      "cell_type": "code",
      "metadata": {
        "id": "E5A28AFnW4ee"
      },
      "source": [
        "#Clearing backend\n",
        "from tensorflow.keras import backend\n",
        "backend.clear_session()\n"
      ],
      "execution_count": null,
      "outputs": []
    },
    {
      "cell_type": "code",
      "metadata": {
        "id": "C107MQ-JXAAF"
      },
      "source": [
        "#Fixing the seed for random number generators\n",
        "np.random.seed(42)\n",
        "import random\n",
        "random.seed(42)\n",
        "tf.random.set_seed(42)"
      ],
      "execution_count": null,
      "outputs": []
    },
    {
      "cell_type": "code",
      "metadata": {
        "id": "GWi7pr9DHKVj"
      },
      "source": [
        "# import the libraries as shown below\n",
        "\n",
        "from tensorflow.keras.layers import Input, Lambda, Dense, Flatten,Conv2D\n",
        "from tensorflow.keras.models import Model\n",
        "from tensorflow.keras.applications.vgg19 import VGG19\n",
        "from tensorflow.keras.applications.resnet50 import preprocess_input\n",
        "from tensorflow.keras.preprocessing import image\n",
        "from tensorflow.keras.preprocessing.image import ImageDataGenerator,load_img\n",
        "from tensorflow.keras.models import Sequential\n",
        "import numpy as np\n",
        "from glob import glob\n",
        "import matplotlib.pyplot as plt\n"
      ],
      "execution_count": null,
      "outputs": []
    },
    {
      "cell_type": "markdown",
      "metadata": {
        "id": "qCxQYjmkfo3F"
      },
      "source": [
        "**Let's print the new image shape :**"
      ]
    },
    {
      "cell_type": "code",
      "metadata": {
        "colab": {
          "base_uri": "https://localhost:8080/"
        },
        "id": "rO3AcWvBJ5ki",
        "outputId": "3e0502f0-34cb-41b0-ebff-a80275b45b64"
      },
      "source": [
        "# New shape \n",
        "\n",
        "print('Training set:', train_images.shape, train_labels.shape)\n",
        "print('Testing set:', test_images.shape, test_labels.shape)"
      ],
      "execution_count": null,
      "outputs": [
        {
          "output_type": "stream",
          "text": [
            "Training set: (24958, 224, 224, 3) (24958, 2)\n",
            "Testing set: (2600, 224, 224, 3) (2600, 2)\n"
          ],
          "name": "stdout"
        }
      ]
    },
    {
      "cell_type": "code",
      "metadata": {
        "id": "B6teru-D1sjT"
      },
      "source": [
        "# re-size all the images to this\n",
        "IMAGE_SIZE = [224, 224]"
      ],
      "execution_count": null,
      "outputs": []
    },
    {
      "cell_type": "code",
      "metadata": {
        "id": "4pLeoD22JPxL"
      },
      "source": [
        "train_dir = '/content/cell_images/train'\n",
        "test_dir = '/content/cell_images/test'"
      ],
      "execution_count": null,
      "outputs": []
    },
    {
      "cell_type": "markdown",
      "metadata": {
        "id": "Jkw3M5IulH1z"
      },
      "source": [
        "**VGG19 Model (Transfer Learning) :**"
      ]
    },
    {
      "cell_type": "code",
      "metadata": {
        "id": "3Z8PdGHdhf5e"
      },
      "source": [
        "# add preprocessing layer to the front of VGG\n",
        "vgg = VGG19(input_shape=IMAGE_SIZE + [3], weights='imagenet', include_top=False)"
      ],
      "execution_count": null,
      "outputs": []
    },
    {
      "cell_type": "code",
      "metadata": {
        "id": "NzxQ-g8kLfzp"
      },
      "source": [
        "# don't train existing weights\n",
        "for layer in vgg.layers:\n",
        "    layer.trainable = False"
      ],
      "execution_count": null,
      "outputs": []
    },
    {
      "cell_type": "code",
      "metadata": {
        "id": "jMvXuZSoH9vI"
      },
      "source": [
        " # our layers \n",
        "x = Flatten()(vgg.output)"
      ],
      "execution_count": null,
      "outputs": []
    },
    {
      "cell_type": "code",
      "metadata": {
        "id": "sqDmEiVmgMvq"
      },
      "source": [
        "# x = Dense(1000, activation='relu')(x)\n",
        "prediction = Dense(len(os.listdir(train_dir)), activation='softmax')(x)\n",
        "\n",
        "#Initializing the model\n",
        "model_4 = Model(inputs=vgg.input, outputs=prediction)"
      ],
      "execution_count": null,
      "outputs": []
    },
    {
      "cell_type": "code",
      "metadata": {
        "colab": {
          "base_uri": "https://localhost:8080/"
        },
        "id": "DpSE8VpfK2iX",
        "outputId": "63ea3250-8483-4bdd-a2c9-aefbe5f3df23"
      },
      "source": [
        "# view the structure of the model\n",
        "model_4.summary()"
      ],
      "execution_count": null,
      "outputs": [
        {
          "output_type": "stream",
          "text": [
            "Model: \"model\"\n",
            "_________________________________________________________________\n",
            "Layer (type)                 Output Shape              Param #   \n",
            "=================================================================\n",
            "input_1 (InputLayer)         [(None, 224, 224, 3)]     0         \n",
            "_________________________________________________________________\n",
            "block1_conv1 (Conv2D)        (None, 224, 224, 64)      1792      \n",
            "_________________________________________________________________\n",
            "block1_conv2 (Conv2D)        (None, 224, 224, 64)      36928     \n",
            "_________________________________________________________________\n",
            "block1_pool (MaxPooling2D)   (None, 112, 112, 64)      0         \n",
            "_________________________________________________________________\n",
            "block2_conv1 (Conv2D)        (None, 112, 112, 128)     73856     \n",
            "_________________________________________________________________\n",
            "block2_conv2 (Conv2D)        (None, 112, 112, 128)     147584    \n",
            "_________________________________________________________________\n",
            "block2_pool (MaxPooling2D)   (None, 56, 56, 128)       0         \n",
            "_________________________________________________________________\n",
            "block3_conv1 (Conv2D)        (None, 56, 56, 256)       295168    \n",
            "_________________________________________________________________\n",
            "block3_conv2 (Conv2D)        (None, 56, 56, 256)       590080    \n",
            "_________________________________________________________________\n",
            "block3_conv3 (Conv2D)        (None, 56, 56, 256)       590080    \n",
            "_________________________________________________________________\n",
            "block3_conv4 (Conv2D)        (None, 56, 56, 256)       590080    \n",
            "_________________________________________________________________\n",
            "block3_pool (MaxPooling2D)   (None, 28, 28, 256)       0         \n",
            "_________________________________________________________________\n",
            "block4_conv1 (Conv2D)        (None, 28, 28, 512)       1180160   \n",
            "_________________________________________________________________\n",
            "block4_conv2 (Conv2D)        (None, 28, 28, 512)       2359808   \n",
            "_________________________________________________________________\n",
            "block4_conv3 (Conv2D)        (None, 28, 28, 512)       2359808   \n",
            "_________________________________________________________________\n",
            "block4_conv4 (Conv2D)        (None, 28, 28, 512)       2359808   \n",
            "_________________________________________________________________\n",
            "block4_pool (MaxPooling2D)   (None, 14, 14, 512)       0         \n",
            "_________________________________________________________________\n",
            "block5_conv1 (Conv2D)        (None, 14, 14, 512)       2359808   \n",
            "_________________________________________________________________\n",
            "block5_conv2 (Conv2D)        (None, 14, 14, 512)       2359808   \n",
            "_________________________________________________________________\n",
            "block5_conv3 (Conv2D)        (None, 14, 14, 512)       2359808   \n",
            "_________________________________________________________________\n",
            "block5_conv4 (Conv2D)        (None, 14, 14, 512)       2359808   \n",
            "_________________________________________________________________\n",
            "block5_pool (MaxPooling2D)   (None, 7, 7, 512)         0         \n",
            "_________________________________________________________________\n",
            "flatten (Flatten)            (None, 25088)             0         \n",
            "_________________________________________________________________\n",
            "dense (Dense)                (None, 2)                 50178     \n",
            "=================================================================\n",
            "Total params: 20,074,562\n",
            "Trainable params: 50,178\n",
            "Non-trainable params: 20,024,384\n",
            "_________________________________________________________________\n"
          ],
          "name": "stdout"
        }
      ]
    },
    {
      "cell_type": "markdown",
      "metadata": {
        "id": "IEOWd9RKilVd"
      },
      "source": [
        "**Creating new CNNs model :**"
      ]
    },
    {
      "cell_type": "code",
      "metadata": {
        "colab": {
          "base_uri": "https://localhost:8080/"
        },
        "id": "0-7pl8aQLyT9",
        "outputId": "31ac2bca-16b8-40af-af2f-d6f98210d9bf"
      },
      "source": [
        "from tensorflow.keras.layers import MaxPooling2D\n",
        "\n",
        "### Create Model from scratch using CNN\n",
        "model_4=Sequential()\n",
        "model_4.add(Conv2D(filters=16,kernel_size=2,padding=\"same\",activation=\"relu\",input_shape=(224,224,3)))\n",
        "model_4.add(MaxPooling2D(pool_size=2))\n",
        "model_4.add(Conv2D(filters=32,kernel_size=2,padding=\"same\",activation =\"relu\"))\n",
        "model_4.add(MaxPooling2D(pool_size=2))\n",
        "model_4.add(Conv2D(filters=64,kernel_size=2,padding=\"same\",activation=\"relu\"))\n",
        "model_4.add(MaxPooling2D(pool_size=2))\n",
        "model_4.add(Flatten())\n",
        "model_4.add(Dense(500,activation=\"relu\"))\n",
        "model_4.add(Dense(2,activation=\"softmax\"))\n",
        "model_4.summary()"
      ],
      "execution_count": null,
      "outputs": [
        {
          "output_type": "stream",
          "text": [
            "Model: \"sequential\"\n",
            "_________________________________________________________________\n",
            "Layer (type)                 Output Shape              Param #   \n",
            "=================================================================\n",
            "conv2d (Conv2D)              (None, 224, 224, 16)      208       \n",
            "_________________________________________________________________\n",
            "max_pooling2d (MaxPooling2D) (None, 112, 112, 16)      0         \n",
            "_________________________________________________________________\n",
            "conv2d_1 (Conv2D)            (None, 112, 112, 32)      2080      \n",
            "_________________________________________________________________\n",
            "max_pooling2d_1 (MaxPooling2 (None, 56, 56, 32)        0         \n",
            "_________________________________________________________________\n",
            "conv2d_2 (Conv2D)            (None, 56, 56, 64)        8256      \n",
            "_________________________________________________________________\n",
            "max_pooling2d_2 (MaxPooling2 (None, 28, 28, 64)        0         \n",
            "_________________________________________________________________\n",
            "flatten_1 (Flatten)          (None, 50176)             0         \n",
            "_________________________________________________________________\n",
            "dense_1 (Dense)              (None, 500)               25088500  \n",
            "_________________________________________________________________\n",
            "dense_2 (Dense)              (None, 2)                 1002      \n",
            "=================================================================\n",
            "Total params: 25,100,046\n",
            "Trainable params: 25,100,046\n",
            "Non-trainable params: 0\n",
            "_________________________________________________________________\n"
          ],
          "name": "stdout"
        }
      ]
    },
    {
      "cell_type": "code",
      "metadata": {
        "id": "4nmNJXZdqcIY"
      },
      "source": [
        "# let's compile the model\n",
        "model_4.compile(\n",
        "  loss='categorical_crossentropy',\n",
        "  optimizer='adam',\n",
        "  metrics=['accuracy'])"
      ],
      "execution_count": null,
      "outputs": []
    },
    {
      "cell_type": "code",
      "metadata": {
        "id": "S3w2Pf-Dqe-a"
      },
      "source": [
        "train_datagen_2 = ImageDataGenerator(rescale = 1./255,\n",
        "                                   shear_range = 0.2,\n",
        "                                   zoom_range = 0.2,\n",
        "                                   horizontal_flip = True)\n",
        "\n",
        "test_datagen_2 = ImageDataGenerator(rescale = 1./255)"
      ],
      "execution_count": null,
      "outputs": []
    },
    {
      "cell_type": "code",
      "metadata": {
        "colab": {
          "base_uri": "https://localhost:8080/"
        },
        "id": "0u-enDXLPS34",
        "outputId": "658d8e2b-ad9d-4f55-a7c7-5d65306dcabf"
      },
      "source": [
        "\n",
        "train_set_2 = train_datagen_2.flow_from_directory('/content/cell_images/train',\n",
        "                                                 target_size = (224, 224),\n",
        "                                                 batch_size = 32,\n",
        "                                                 class_mode = 'categorical')"
      ],
      "execution_count": null,
      "outputs": [
        {
          "output_type": "stream",
          "text": [
            "Found 24958 images belonging to 2 classes.\n"
          ],
          "name": "stdout"
        }
      ]
    },
    {
      "cell_type": "code",
      "metadata": {
        "colab": {
          "base_uri": "https://localhost:8080/"
        },
        "id": "Kz4oUF4wPdMT",
        "outputId": "2964a0e6-3cd7-4066-bdbf-2691f12a4045"
      },
      "source": [
        "\n",
        "train_set_2"
      ],
      "execution_count": null,
      "outputs": [
        {
          "output_type": "execute_result",
          "data": {
            "text/plain": [
              "<tensorflow.python.keras.preprocessing.image.DirectoryIterator at 0x7f7b7af71b10>"
            ]
          },
          "metadata": {
            "tags": []
          },
          "execution_count": 61
        }
      ]
    },
    {
      "cell_type": "code",
      "metadata": {
        "colab": {
          "base_uri": "https://localhost:8080/"
        },
        "id": "tuuwst5WPmYK",
        "outputId": "4ebc5e9d-ed27-4e97-f0b3-fd28446693e6"
      },
      "source": [
        "test_set_2 = test_datagen_2.flow_from_directory('/content/cell_images/test',\n",
        "                                            target_size = (224, 224),\n",
        "                                            batch_size = 32,\n",
        "                                            class_mode = 'categorical', shuffle = False)"
      ],
      "execution_count": null,
      "outputs": [
        {
          "output_type": "stream",
          "text": [
            "Found 2600 images belonging to 2 classes.\n"
          ],
          "name": "stdout"
        }
      ]
    },
    {
      "cell_type": "code",
      "metadata": {
        "colab": {
          "base_uri": "https://localhost:8080/"
        },
        "id": "azRleFlv0nHy",
        "outputId": "f1dc7c94-90e7-41a3-ee49-fe097c199100"
      },
      "source": [
        "# fit the model\n",
        "history_model_4 = model_4.fit_generator(\n",
        "  train_set_2,\n",
        "  validation_data=test_set_2,\n",
        "  epochs=50,\n",
        "  steps_per_epoch=len(train_set_2),\n",
        "  validation_steps=len(test_set_2)\n",
        ")"
      ],
      "execution_count": null,
      "outputs": [
        {
          "output_type": "stream",
          "text": [
            "Epoch 1/50\n",
            "780/780 [==============================] - 295s 377ms/step - loss: 0.4286 - accuracy: 0.8033 - val_loss: 0.1845 - val_accuracy: 0.9365\n",
            "Epoch 2/50\n",
            "780/780 [==============================] - 292s 375ms/step - loss: 0.1996 - accuracy: 0.9333 - val_loss: 0.2753 - val_accuracy: 0.9192\n",
            "Epoch 3/50\n",
            "780/780 [==============================] - 288s 369ms/step - loss: 0.1837 - accuracy: 0.9411 - val_loss: 0.1971 - val_accuracy: 0.9269\n",
            "Epoch 4/50\n",
            "780/780 [==============================] - 287s 368ms/step - loss: 0.1729 - accuracy: 0.9461 - val_loss: 0.1941 - val_accuracy: 0.9338\n",
            "Epoch 5/50\n",
            "780/780 [==============================] - 289s 370ms/step - loss: 0.1629 - accuracy: 0.9509 - val_loss: 0.1659 - val_accuracy: 0.9427\n",
            "Epoch 6/50\n",
            "780/780 [==============================] - 287s 368ms/step - loss: 0.1499 - accuracy: 0.9546 - val_loss: 0.1989 - val_accuracy: 0.9450\n",
            "Epoch 7/50\n",
            "780/780 [==============================] - 273s 350ms/step - loss: 0.1430 - accuracy: 0.9557 - val_loss: 0.1855 - val_accuracy: 0.9442\n",
            "Epoch 8/50\n",
            "780/780 [==============================] - 272s 349ms/step - loss: 0.1442 - accuracy: 0.9562 - val_loss: 0.1885 - val_accuracy: 0.9481\n",
            "Epoch 9/50\n",
            "780/780 [==============================] - 274s 351ms/step - loss: 0.1368 - accuracy: 0.9572 - val_loss: 0.1666 - val_accuracy: 0.9477\n",
            "Epoch 10/50\n",
            "780/780 [==============================] - 274s 352ms/step - loss: 0.1325 - accuracy: 0.9581 - val_loss: 0.1744 - val_accuracy: 0.9535\n",
            "Epoch 11/50\n",
            "780/780 [==============================] - 275s 352ms/step - loss: 0.1260 - accuracy: 0.9598 - val_loss: 0.1505 - val_accuracy: 0.9519\n",
            "Epoch 12/50\n",
            "780/780 [==============================] - 274s 351ms/step - loss: 0.1281 - accuracy: 0.9583 - val_loss: 0.1758 - val_accuracy: 0.9512\n",
            "Epoch 13/50\n",
            "780/780 [==============================] - 275s 353ms/step - loss: 0.1289 - accuracy: 0.9583 - val_loss: 0.1537 - val_accuracy: 0.9500\n",
            "Epoch 14/50\n",
            "780/780 [==============================] - 273s 349ms/step - loss: 0.1254 - accuracy: 0.9601 - val_loss: 0.1551 - val_accuracy: 0.9512\n",
            "Epoch 15/50\n",
            "780/780 [==============================] - 269s 345ms/step - loss: 0.1218 - accuracy: 0.9604 - val_loss: 0.1542 - val_accuracy: 0.9504\n",
            "Epoch 16/50\n",
            "780/780 [==============================] - 276s 354ms/step - loss: 0.1204 - accuracy: 0.9605 - val_loss: 0.1625 - val_accuracy: 0.9500\n",
            "Epoch 17/50\n",
            "780/780 [==============================] - 282s 362ms/step - loss: 0.1188 - accuracy: 0.9605 - val_loss: 0.1521 - val_accuracy: 0.9519\n",
            "Epoch 18/50\n",
            "780/780 [==============================] - 290s 371ms/step - loss: 0.1140 - accuracy: 0.9621 - val_loss: 0.1505 - val_accuracy: 0.9527\n",
            "Epoch 19/50\n",
            "780/780 [==============================] - 292s 375ms/step - loss: 0.1128 - accuracy: 0.9627 - val_loss: 0.1723 - val_accuracy: 0.9512\n",
            "Epoch 20/50\n",
            "780/780 [==============================] - 293s 376ms/step - loss: 0.1078 - accuracy: 0.9645 - val_loss: 0.1461 - val_accuracy: 0.9500\n",
            "Epoch 21/50\n",
            "780/780 [==============================] - 294s 376ms/step - loss: 0.1069 - accuracy: 0.9641 - val_loss: 0.1582 - val_accuracy: 0.9519\n",
            "Epoch 22/50\n",
            "780/780 [==============================] - 295s 378ms/step - loss: 0.1047 - accuracy: 0.9645 - val_loss: 0.1741 - val_accuracy: 0.9504\n",
            "Epoch 23/50\n",
            "780/780 [==============================] - 295s 378ms/step - loss: 0.1066 - accuracy: 0.9643 - val_loss: 0.1370 - val_accuracy: 0.9512\n",
            "Epoch 24/50\n",
            "780/780 [==============================] - 295s 378ms/step - loss: 0.1009 - accuracy: 0.9660 - val_loss: 0.1387 - val_accuracy: 0.9546\n",
            "Epoch 25/50\n",
            "780/780 [==============================] - 291s 373ms/step - loss: 0.1030 - accuracy: 0.9655 - val_loss: 0.1582 - val_accuracy: 0.9515\n",
            "Epoch 26/50\n",
            "780/780 [==============================] - 290s 372ms/step - loss: 0.0995 - accuracy: 0.9673 - val_loss: 0.1464 - val_accuracy: 0.9542\n",
            "Epoch 27/50\n",
            "780/780 [==============================] - 280s 359ms/step - loss: 0.0975 - accuracy: 0.9670 - val_loss: 0.1576 - val_accuracy: 0.9477\n",
            "Epoch 28/50\n",
            "780/780 [==============================] - 282s 361ms/step - loss: 0.1033 - accuracy: 0.9657 - val_loss: 0.1544 - val_accuracy: 0.9523\n",
            "Epoch 29/50\n",
            "780/780 [==============================] - 286s 367ms/step - loss: 0.0939 - accuracy: 0.9682 - val_loss: 0.1488 - val_accuracy: 0.9519\n",
            "Epoch 30/50\n",
            "780/780 [==============================] - 286s 367ms/step - loss: 0.0932 - accuracy: 0.9681 - val_loss: 0.1808 - val_accuracy: 0.9519\n",
            "Epoch 31/50\n",
            "780/780 [==============================] - 287s 368ms/step - loss: 0.0911 - accuracy: 0.9700 - val_loss: 0.1787 - val_accuracy: 0.9500\n",
            "Epoch 32/50\n",
            "780/780 [==============================] - 280s 359ms/step - loss: 0.0938 - accuracy: 0.9686 - val_loss: 0.1446 - val_accuracy: 0.9519\n",
            "Epoch 33/50\n",
            "780/780 [==============================] - 284s 364ms/step - loss: 0.0917 - accuracy: 0.9693 - val_loss: 0.1649 - val_accuracy: 0.9535\n",
            "Epoch 34/50\n",
            "780/780 [==============================] - 283s 363ms/step - loss: 0.0921 - accuracy: 0.9693 - val_loss: 0.1482 - val_accuracy: 0.9535\n",
            "Epoch 35/50\n",
            "780/780 [==============================] - 280s 359ms/step - loss: 0.0883 - accuracy: 0.9706 - val_loss: 0.1489 - val_accuracy: 0.9527\n",
            "Epoch 36/50\n",
            "780/780 [==============================] - 282s 361ms/step - loss: 0.0871 - accuracy: 0.9700 - val_loss: 0.1512 - val_accuracy: 0.9535\n",
            "Epoch 37/50\n",
            "780/780 [==============================] - 278s 357ms/step - loss: 0.0854 - accuracy: 0.9711 - val_loss: 0.1460 - val_accuracy: 0.9512\n",
            "Epoch 38/50\n",
            "780/780 [==============================] - 279s 358ms/step - loss: 0.0857 - accuracy: 0.9716 - val_loss: 0.1479 - val_accuracy: 0.9515\n",
            "Epoch 39/50\n",
            "780/780 [==============================] - 279s 358ms/step - loss: 0.0836 - accuracy: 0.9726 - val_loss: 0.1600 - val_accuracy: 0.9592\n",
            "Epoch 40/50\n",
            "780/780 [==============================] - 280s 359ms/step - loss: 0.0840 - accuracy: 0.9710 - val_loss: 0.1594 - val_accuracy: 0.9538\n",
            "Epoch 41/50\n",
            "780/780 [==============================] - 281s 360ms/step - loss: 0.0820 - accuracy: 0.9723 - val_loss: 0.1478 - val_accuracy: 0.9546\n",
            "Epoch 42/50\n",
            "780/780 [==============================] - 283s 363ms/step - loss: 0.0794 - accuracy: 0.9731 - val_loss: 0.1470 - val_accuracy: 0.9569\n",
            "Epoch 43/50\n",
            "780/780 [==============================] - 290s 372ms/step - loss: 0.0845 - accuracy: 0.9718 - val_loss: 0.1622 - val_accuracy: 0.9554\n",
            "Epoch 44/50\n",
            "780/780 [==============================] - 288s 369ms/step - loss: 0.0785 - accuracy: 0.9727 - val_loss: 0.1723 - val_accuracy: 0.9565\n",
            "Epoch 45/50\n",
            "780/780 [==============================] - 287s 368ms/step - loss: 0.0772 - accuracy: 0.9744 - val_loss: 0.1963 - val_accuracy: 0.9496\n",
            "Epoch 46/50\n",
            "780/780 [==============================] - 287s 368ms/step - loss: 0.0770 - accuracy: 0.9740 - val_loss: 0.1610 - val_accuracy: 0.9554\n",
            "Epoch 47/50\n",
            "780/780 [==============================] - 287s 367ms/step - loss: 0.0755 - accuracy: 0.9754 - val_loss: 0.1546 - val_accuracy: 0.9535\n",
            "Epoch 48/50\n",
            "780/780 [==============================] - 286s 367ms/step - loss: 0.0797 - accuracy: 0.9739 - val_loss: 0.1842 - val_accuracy: 0.9565\n",
            "Epoch 49/50\n",
            "780/780 [==============================] - 288s 369ms/step - loss: 0.0733 - accuracy: 0.9752 - val_loss: 0.1960 - val_accuracy: 0.9519\n",
            "Epoch 50/50\n",
            "780/780 [==============================] - 287s 368ms/step - loss: 0.0726 - accuracy: 0.9760 - val_loss: 0.1867 - val_accuracy: 0.9485\n"
          ],
          "name": "stdout"
        }
      ]
    },
    {
      "cell_type": "code",
      "metadata": {
        "colab": {
          "base_uri": "https://localhost:8080/"
        },
        "id": "wiebRXsn82XQ",
        "outputId": "614db9c3-2cd5-4f1b-fa86-01b19fd81ead"
      },
      "source": [
        "tf.keras.callbacks.ModelCheckpoint"
      ],
      "execution_count": null,
      "outputs": [
        {
          "output_type": "execute_result",
          "data": {
            "text/plain": [
              "tensorflow.python.keras.callbacks.ModelCheckpoint"
            ]
          },
          "metadata": {
            "tags": []
          },
          "execution_count": 63
        }
      ]
    },
    {
      "cell_type": "code",
      "metadata": {
        "colab": {
          "base_uri": "https://localhost:8080/",
          "height": 295
        },
        "id": "OE-TtC7gGRoQ",
        "outputId": "99b05a8c-958c-4112-821b-cb7780022de9"
      },
      "source": [
        "# plotting the accuracies\n",
        "\n",
        "plt.plot(history_model_4.history['accuracy'])\n",
        "plt.plot(history_model_4.history['val_accuracy'])\n",
        "plt.title('Accuracy vs Epochs')\n",
        "plt.ylabel('Accuracy')\n",
        "plt.xlabel('Epoch')\n",
        "plt.legend(['Train', 'Validation'], loc='lower right')\n",
        "plt.show()"
      ],
      "execution_count": null,
      "outputs": [
        {
          "output_type": "display_data",
          "data": {
            "image/png": "[encoded data removed]",
            "text/plain": [
              "<Figure size 432x288 with 1 Axes>"
            ]
          },
          "metadata": {
            "tags": [],
            "needs_background": "light"
          }
        }
      ]
    },
    {
      "cell_type": "code",
      "metadata": {
        "id": "mX1Xs2NWGudJ"
      },
      "source": [
        "# save it as a h5 file\n",
        "from tensorflow.keras.models import load_model\n",
        "model_4.save('model_4.h5')"
      ],
      "execution_count": null,
      "outputs": []
    },
    {
      "cell_type": "code",
      "metadata": {
        "id": "VgXiTWkTG7Fl"
      },
      "source": [
        "from tensorflow.keras.models import load_model\n",
        "from tensorflow.keras.preprocessing import image\n",
        "model_4=load_model('model_4.h5')"
      ],
      "execution_count": null,
      "outputs": []
    },
    {
      "cell_type": "code",
      "metadata": {
        "id": "9upLJs40ILc2"
      },
      "source": [
        "#Make prediction on the test data using model_4\n",
        "test_pred = model_4.predict(test_set_2)\n",
        "\n",
        "test_pred = np.argmax(test_pred, axis=-1)"
      ],
      "execution_count": null,
      "outputs": []
    },
    {
      "cell_type": "code",
      "metadata": {
        "colab": {
          "base_uri": "https://localhost:8080/",
          "height": 654
        },
        "id": "e63zWqz76wIJ",
        "outputId": "5f4b87e9-2894-4c1f-ab16-abf24365cbf4"
      },
      "source": [
        "\n",
        "#printing confusion report and heatmap\n",
        "from tensorflow.keras.preprocessing import image\n",
        "pred_probabilities = model_4.predict_generator(test_set_2)\n",
        "print(pred_probabilities)\n",
        "print(test_set_2.classes)\n",
        "predictions = pred_probabilities > 0.5\n",
        "predictions =np.argmax(predictions, axis=-1)\n",
        "print(classification_report(test_set_2.classes, predictions))\n",
        "cm = confusion_matrix(test_set_2.classes, predictions)\n",
        "\n",
        "plt.subplots(1, 2, figsize=(10,5))\n",
        "plt.subplot(1, 2, 1)\n",
        "sns.heatmap(cm, annot=True,  fmt='.0f', xticklabels=['parasitized', 'uninfected'], yticklabels=['parasitized', 'uninfected'])\n",
        "plt.ylabel('Actual')\n",
        "plt.xlabel('Predicted')\n",
        "\n",
        "cm = confusion_matrix(test_set_2.classes, predictions)\n",
        "plt.subplot(1, 2, 2)\n",
        "\n",
        "sns.heatmap(cm/np.sum(cm, axis =1), annot=True,\n",
        "            fmt='.2%', xticklabels=['parasitized', 'uninfected'], \n",
        "            yticklabels=['parasitized', 'uninfected'])\n",
        "plt.ylabel('Actual')\n",
        "plt.xlabel('Predicted')\n",
        "\n",
        "plt.tight_layout();\n",
        "plt.show()  "
      ],
      "execution_count": null,
      "outputs": [
        {
          "output_type": "stream",
          "text": [
            "[[1.0000000e+00 1.0273716e-16]\n",
            " [9.9999678e-01 3.1851980e-06]\n",
            " [9.9901092e-01 9.8903675e-04]\n",
            " ...\n",
            " [1.5975328e-04 9.9984026e-01]\n",
            " [2.9558488e-03 9.9704415e-01]\n",
            " [4.8460209e-04 9.9951541e-01]]\n",
            "[0 0 0 ... 1 1 1]\n",
            "              precision    recall  f1-score   support\n",
            "\n",
            "           0       0.97      0.92      0.95      1300\n",
            "           1       0.93      0.97      0.95      1300\n",
            "\n",
            "    accuracy                           0.95      2600\n",
            "   macro avg       0.95      0.95      0.95      2600\n",
            "weighted avg       0.95      0.95      0.95      2600\n",
            "\n"
          ],
          "name": "stdout"
        },
        {
          "output_type": "display_data",
          "data": {
            "image/png": "[encoded data removed]",
            "text/plain": [
              "<Figure size 720x360 with 4 Axes>"
            ]
          },
          "metadata": {
            "tags": [],
            "needs_background": "light"
          }
        }
      ]
    },
    {
      "cell_type": "markdown",
      "metadata": {
        "id": "JUCJzYQNsaj9"
      },
      "source": [
        "### **Observations/Conclusion:**\n",
        "\n",
        "- Model # 4 (VGG19) gives best performance on test dataset among all the previous 3 model.\n",
        "- The CNN model # 4 with VGG19 (transfer learning) gives the same accuracy score as CNN Model #3, i.e., 95%. However, CNN model # 4 with VGG19 (transfer learning) **gives the highest recall and precision score among all the models, i.e., 97.31%, and 97.17% respectively**.Hence, the Model #4 success rate is 97.31% actually to predict a person has malaria, i.e., a person is parasitized."
      ]
    }
  ]
}